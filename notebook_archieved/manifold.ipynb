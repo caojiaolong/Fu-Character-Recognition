{
 "cells": [
  {
   "cell_type": "code",
   "execution_count": 1,
   "metadata": {},
   "outputs": [],
   "source": [
    "from skimage import morphology,draw\n",
    "import numpy as np\n",
    "import matplotlib.pyplot as plt\n",
    "import cv2\n",
    "\n",
    "def readimage(t_name):\n",
    "    image = cv2.imread(t_name,cv2.IMREAD_GRAYSCALE)\n",
    "    ret,image=cv2.threshold(image, 127, 255, cv2.THRESH_BINARY)\n",
    "    image=255-image\n",
    "\n",
    "    #实施骨架算法\n",
    "    skeleton =morphology.skeletonize(image)\n",
    "\n",
    "    skeleton=255-skeleton\n",
    "    image=255-image\n",
    "    skeleton[skeleton!=255]=0\n",
    "    return image,skeleton"
   ]
  },
  {
   "cell_type": "code",
   "execution_count": 2,
   "metadata": {},
   "outputs": [],
   "source": [
    "%matplotlib widget\n",
    "from matplotlib import pyplot as plt\n",
    "import numpy as np\n",
    "def plotscatter(X_transformed):\n",
    "    if X_transformed.shape[1]==3:\n",
    "        fig = plt.figure()\n",
    "        ax = fig.add_subplot(projection='3d')\n",
    "        ax.scatter(X_transformed[:num_fu,0],X_transformed[:num_fu,1],X_transformed[:num_fu,2],c=\"r\",label=\"fu\")\n",
    "        ax.scatter(X_transformed[num_fu:num_fu+num_notfu,0],X_transformed[num_fu:num_fu+num_notfu,1],X_transformed[num_fu:num_fu+num_notfu,2],c=\"g\",label=\"notfu\")\n",
    "        ax.scatter(X_transformed[num_fu+num_notfu:num_fu+num_notfu+5,0],X_transformed[num_fu+num_notfu:num_fu+num_notfu+5,1],X_transformed[num_fu+num_notfu:num_fu+num_notfu+5,2],c=\"b\",label=\"testfu\")\n",
    "        ax.scatter(X_transformed[-5:,0],X_transformed[-5:,1],X_transformed[-5:,2],c=\"y\",label=\"testnotfu\")\n",
    "        ax.legend()\n",
    "        ax.grid(True)\n",
    "\n",
    "        plt.show()\n",
    "    elif X_transformed.shape[1]==2:\n",
    "        fig = plt.figure()\n",
    "        ax = fig.add_subplot()\n",
    "        ax.scatter(X_transformed[:num_fu,0],X_transformed[:num_fu,1],c=\"r\",label=\"fu\")\n",
    "        ax.scatter(X_transformed[num_fu:num_fu+num_notfu,0],X_transformed[num_fu:num_fu+num_notfu,1],c=\"g\",label=\"notfu\")\n",
    "        ax.scatter(X_transformed[num_fu+num_notfu:num_fu+num_notfu+5,0],X_transformed[num_fu+num_notfu:num_fu+num_notfu+5,1],c=\"b\",label=\"testfu\")\n",
    "        ax.scatter(X_transformed[-5:,0],X_transformed[-5:,1],c=\"y\",label=\"testnotfu\")\n",
    "        ax.legend()\n",
    "        ax.grid(True)\n",
    "\n",
    "        plt.show()\n",
    "    elif X_transformed.shape[1]==1:\n",
    "        fig = plt.figure()\n",
    "        ax = fig.add_subplot()\n",
    "        ax.scatter(X_transformed[:num_fu,0],0*np.ones(num_fu),c=\"r\",label=\"fu\")\n",
    "        ax.scatter(X_transformed[num_fu:num_fu+num_notfu,0],1*np.ones(num_notfu),c=\"g\",label=\"notfu\")\n",
    "        ax.scatter(X_transformed[num_fu+num_notfu:num_fu+num_notfu+5,0],2*np.ones(5),c=\"b\",label=\"testfu\")\n",
    "        ax.scatter(X_transformed[-5:,0],3*np.ones(5),c=\"y\",label=\"testnotfu\")\n",
    "        ax.legend()\n",
    "        ax.grid(True)"
   ]
  },
  {
   "cell_type": "code",
   "execution_count": 29,
   "metadata": {},
   "outputs": [],
   "source": [
    "import os\n",
    "import numpy as np\n",
    "from sklearn.cluster import KMeans\n",
    "from feature import feature\n",
    "\n",
    "\n",
    "class BoW:\n",
    "    def __init__(self, PathofData, dim=50, method=\"sift\", data_dim=128) -> None:\n",
    "        self.dim = dim\n",
    "        self.method = method\n",
    "        self.data_dim = data_dim\n",
    "        data = np.empty([0, data_dim])\n",
    "        for i in PathofData:\n",
    "            if method in [\"sift\", \"surf\", \"orb\"]:\n",
    "                feat = feature(i, method, show=False)[1]\n",
    "            elif method == \"shi-tomasi\":\n",
    "                feat = np.squeeze(feature(i, method, show=False))\n",
    "            else:\n",
    "                print(\"no method. \")\n",
    "                return []\n",
    "            if feat is not None:\n",
    "                data = np.concatenate((data, feat), axis=0)\n",
    "        kmeans = KMeans(n_clusters=dim, random_state=0, n_init=\"auto\").fit(data)\n",
    "        self.kmeans = kmeans\n",
    "\n",
    "    def fit(self, PathofData):\n",
    "        N = len(PathofData)\n",
    "        Word = np.zeros([N, self.dim])\n",
    "        for index, i in enumerate(PathofData):\n",
    "            if self.method in [\"sift\", \"surf\", \"orb\"]:\n",
    "                feat = feature(i, self.method, show=False)[1]\n",
    "            elif self.method == \"shi-tomasi\":\n",
    "                feat = np.squeeze(feature(i, self.method, show=False))\n",
    "            else:\n",
    "                print(\"no method. \")\n",
    "                return []\n",
    "            if feat is not None:\n",
    "                label = self.kmeans.predict(feat.astype(float))\n",
    "                hist, _ = np.histogram(label, bins=range(self.dim + 1))\n",
    "            else:\n",
    "                hist=np.zeros((1,self.dim))\n",
    "            # if np.sum(hist)!=0:\n",
    "            #     hist=hist/np.sum(hist)\n",
    "            Word[index] = hist\n",
    "        return Word\n",
    "    \n",
    "    def getSPM(self, PathofData,level):\n",
    "        width = 500\n",
    "        N = len(PathofData)\n",
    "        Word = np.zeros([N, int(self.dim*(4**level-1)/3)])\n",
    "        for index, i in enumerate(PathofData):\n",
    "            counter=0\n",
    "            for l in range(level):\n",
    "                x,y=0,0\n",
    "                step=np.floor(width/2**l).astype(int)\n",
    "                for _ in range(2**l):\n",
    "                    x=0\n",
    "                    for _ in range(2**l):\n",
    "                        if self.method in [\"sift\", \"surf\", \"orb\"]:\n",
    "                            feat = feature(i, self.method, show=False,x_start=x,x_end=x+step,y_start=y,y_end=y+step)[1]\n",
    "                        elif self.method == \"shi-tomasi\":\n",
    "                            feat=feature(i, self.method, show=False,x_start=x,x_end=x+step,y_start=y,y_end=y+step)\n",
    "                            if feat is not None:\n",
    "                                feat = np.squeeze(feat,axis=1)\n",
    "                        else:\n",
    "                            print(\"no method. \")\n",
    "                            return []\n",
    "                        if feat is not None:\n",
    "                            label = self.kmeans.predict(feat.astype(float))\n",
    "                            hist, _ = np.histogram(label, bins=range(self.dim + 1))\n",
    "                            weight = 2**(l-level)\n",
    "                            hist=hist*weight\n",
    "                        else:\n",
    "                            hist=np.zeros((1,self.dim))\n",
    "                        Word[index][counter*self.dim:(counter+1)*self.dim]=np.copy(hist)\n",
    "                        counter+=1\n",
    "                        x = x + step\n",
    "                    y=y+step\n",
    "        return Word"
   ]
  },
  {
   "cell_type": "code",
   "execution_count": 30,
   "metadata": {},
   "outputs": [],
   "source": [
    "dim = 30\n",
    "level=2\n",
    "Features = [(\"sift\", 128), (\"surf\", 64), (\"orb\", 32), (\"shi-tomasi\", 2)]\n",
    "pathfu = \"./traindata/fu/\"\n",
    "pathnotfu = \"./traindata/not_fu/\"\n",
    "pathtest = \"./testdata/\"\n",
    "num_fu=len(os.listdir(pathfu))\n",
    "num_notfu=len(os.listdir(pathnotfu))\n",
    "BOWfeat=np.zeros((num_fu+num_notfu+10, 0))\n",
    "all=[pathfu + i for i in os.listdir(pathfu)]+[pathnotfu + i for i in os.listdir(pathnotfu)]+[pathtest + i for i in os.listdir(pathtest)]\n",
    "for method, data_dim in Features:\n",
    "    BoWfu = BoW(all,\n",
    "        method=method,\n",
    "        data_dim=data_dim,\n",
    "        dim=dim,\n",
    "    )\n",
    "    BOWfeat = np.concatenate(\n",
    "        (\n",
    "            BOWfeat,\n",
    "            BoWfu.fit(all),\n",
    "        ),\n",
    "        axis=1,\n",
    "    )"
   ]
  },
  {
   "cell_type": "code",
   "execution_count": 31,
   "metadata": {},
   "outputs": [],
   "source": [
    "data=BOWfeat"
   ]
  },
  {
   "cell_type": "code",
   "execution_count": 49,
   "metadata": {},
   "outputs": [
    {
     "name": "stderr",
     "output_type": "stream",
     "text": [
      "100%|██████████| 1570/1570 [00:51<00:00, 30.70it/s]\n"
     ]
    }
   ],
   "source": [
    "import os\n",
    "\n",
    "from tqdm import tqdm\n",
    "\n",
    "from feature import feature\n",
    "\n",
    "\n",
    "pathfu = \"./traindata/fu/\"\n",
    "pathnotfu = \"./traindata/not_fu/\"\n",
    "pathtest = \"./testdata/\"\n",
    "\n",
    "num_fu=len(os.listdir(pathfu))\n",
    "num_notfu=len(os.listdir(pathnotfu))\n",
    "num_test=len(os.listdir(pathtest))\n",
    "\n",
    "data=np.zeros((num_fu+num_notfu+num_test,133956+250000))\n",
    "y = np.concatenate((np.ones(num_fu), 0*np.ones(num_notfu),np.ones(5), 0*np.ones(5)))\n",
    "\n",
    "all=[pathfu + i for i in os.listdir(pathfu)]+[pathnotfu + i for i in os.listdir(pathnotfu)]+[pathtest + i for i in os.listdir(pathtest)]\n",
    "for index,i in enumerate(tqdm(all)):\n",
    "    skeleton,_=readimage(i)\n",
    "    skeleton=skeleton.flatten()\n",
    "    skeleton=255-skeleton\n",
    "    skeleton=skeleton/255\n",
    "    hog=feature(i,\"hog\",False,skeleton=False).flatten()\n",
    "    data[index]=np.concatenate((skeleton,hog))"
   ]
  },
  {
   "cell_type": "code",
   "execution_count": 50,
   "metadata": {},
   "outputs": [
    {
     "data": {
      "text/plain": [
       "((1570, 383956), (1570,))"
      ]
     },
     "execution_count": 50,
     "metadata": {},
     "output_type": "execute_result"
    }
   ],
   "source": [
    "data.shape,y.shape"
   ]
  },
  {
   "cell_type": "code",
   "execution_count": 62,
   "metadata": {},
   "outputs": [],
   "source": [
    "from sklearn.discriminant_analysis import LinearDiscriminantAnalysis\n",
    "from sklearn.pipeline import make_pipeline\n",
    "from sklearn.preprocessing import StandardScaler\n",
    "clf = LinearDiscriminantAnalysis()\n",
    "clf.fit(data[:-10], y[:-10])\n",
    "X=clf.transform(data)"
   ]
  },
  {
   "cell_type": "code",
   "execution_count": 9,
   "metadata": {},
   "outputs": [],
   "source": [
    "from sklearn.manifold import MDS\n",
    "embedding = MDS(n_components=3, normalized_stress='auto')\n",
    "X = embedding.fit_transform(data)"
   ]
  },
  {
   "cell_type": "code",
   "execution_count": 51,
   "metadata": {},
   "outputs": [
    {
     "data": {
      "text/plain": [
       "(1570, 3)"
      ]
     },
     "execution_count": 51,
     "metadata": {},
     "output_type": "execute_result"
    }
   ],
   "source": [
    "from sklearn.manifold import LocallyLinearEmbedding\n",
    "from sklearn.pipeline import make_pipeline\n",
    "from sklearn.preprocessing import StandardScaler\n",
    "embedding = make_pipeline(StandardScaler(),\n",
    "                          LocallyLinearEmbedding(n_neighbors=10,\n",
    "                                                 n_components=3,\n",
    "                                                 method=\"modified\",\n",
    "                                                 eigen_solver='dense'))\n",
    "X = embedding.fit_transform(data)\n",
    "X.shape"
   ]
  },
  {
   "cell_type": "code",
   "execution_count": 38,
   "metadata": {},
   "outputs": [
    {
     "data": {
      "text/plain": [
       "(1570, 2)"
      ]
     },
     "execution_count": 38,
     "metadata": {},
     "output_type": "execute_result"
    }
   ],
   "source": [
    "from sklearn.manifold import SpectralEmbedding\n",
    "embedding = SpectralEmbedding(n_components=2)\n",
    "X = embedding.fit_transform(data)\n",
    "X.shape"
   ]
  },
  {
   "cell_type": "code",
   "execution_count": 31,
   "metadata": {},
   "outputs": [
    {
     "data": {
      "text/plain": [
       "(1570, 2)"
      ]
     },
     "execution_count": 31,
     "metadata": {},
     "output_type": "execute_result"
    }
   ],
   "source": [
    "from sklearn.manifold import TSNE\n",
    "X = TSNE(n_components=2).fit_transform(data)\n",
    "X.shape"
   ]
  },
  {
   "cell_type": "code",
   "execution_count": 56,
   "metadata": {},
   "outputs": [],
   "source": [
    "from sklearn.decomposition import PCA\n",
    "pca = PCA(n_components=2)\n",
    "X=pca.fit_transform(data)"
   ]
  },
  {
   "cell_type": "code",
   "execution_count": 63,
   "metadata": {},
   "outputs": [
    {
     "data": {
      "application/vnd.jupyter.widget-view+json": {
       "model_id": "e371ce55dffe4a7499856727b1ba3f80",
       "version_major": 2,
       "version_minor": 0
      },
      "image/png": "[encoded data removed]",
      "text/html": [
       "\n",
       "            <div style=\"display: inline-block;\">\n",
       "                <div class=\"jupyter-widgets widget-label\" style=\"text-align: center;\">\n",
       "                    Figure\n",
       "                </div>\n",
       "                <img src='data:image/png;base64,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' width=640.0/>\n",
       "            </div>\n",
       "        "
      ],
      "text/plain": [
       "Canvas(toolbar=Toolbar(toolitems=[('Home', 'Reset original view', 'home', 'home'), ('Back', 'Back to previous …"
      ]
     },
     "metadata": {},
     "output_type": "display_data"
    }
   ],
   "source": [
    "plotscatter(X)"
   ]
  },
  {
   "cell_type": "code",
   "execution_count": 54,
   "metadata": {},
   "outputs": [],
   "source": [
    "data=np.concatenate((X,BOWfeat),axis=1)"
   ]
  },
  {
   "cell_type": "code",
   "execution_count": 65,
   "metadata": {},
   "outputs": [],
   "source": [
    "from sklearn.model_selection import train_test_split\n",
    "\n",
    "X_train, X_val, y_train, y_val = train_test_split(\n",
    "    X[:-10,:], y[:-10], test_size=0.2, random_state=42\n",
    ")\n",
    "X_test=X[-10:,:]\n",
    "y_test=y[-10:]"
   ]
  },
  {
   "cell_type": "code",
   "execution_count": 66,
   "metadata": {},
   "outputs": [
    {
     "data": {
      "text/html": [
       "<style>#sk-container-id-3 {color: black;background-color: white;}#sk-container-id-3 pre{padding: 0;}#sk-container-id-3 div.sk-toggleable {background-color: white;}#sk-container-id-3 label.sk-toggleable__label {cursor: pointer;display: block;width: 100%;margin-bottom: 0;padding: 0.3em;box-sizing: border-box;text-align: center;}#sk-container-id-3 label.sk-toggleable__label-arrow:before {content: \"▸\";float: left;margin-right: 0.25em;color: #696969;}#sk-container-id-3 label.sk-toggleable__label-arrow:hover:before {color: black;}#sk-container-id-3 div.sk-estimator:hover label.sk-toggleable__label-arrow:before {color: black;}#sk-container-id-3 div.sk-toggleable__content {max-height: 0;max-width: 0;overflow: hidden;text-align: left;background-color: #f0f8ff;}#sk-container-id-3 div.sk-toggleable__content pre {margin: 0.2em;color: black;border-radius: 0.25em;background-color: #f0f8ff;}#sk-container-id-3 input.sk-toggleable__control:checked~div.sk-toggleable__content {max-height: 200px;max-width: 100%;overflow: auto;}#sk-container-id-3 input.sk-toggleable__control:checked~label.sk-toggleable__label-arrow:before {content: \"▾\";}#sk-container-id-3 div.sk-estimator input.sk-toggleable__control:checked~label.sk-toggleable__label {background-color: #d4ebff;}#sk-container-id-3 div.sk-label input.sk-toggleable__control:checked~label.sk-toggleable__label {background-color: #d4ebff;}#sk-container-id-3 input.sk-hidden--visually {border: 0;clip: rect(1px 1px 1px 1px);clip: rect(1px, 1px, 1px, 1px);height: 1px;margin: -1px;overflow: hidden;padding: 0;position: absolute;width: 1px;}#sk-container-id-3 div.sk-estimator {font-family: monospace;background-color: #f0f8ff;border: 1px dotted black;border-radius: 0.25em;box-sizing: border-box;margin-bottom: 0.5em;}#sk-container-id-3 div.sk-estimator:hover {background-color: #d4ebff;}#sk-container-id-3 div.sk-parallel-item::after {content: \"\";width: 100%;border-bottom: 1px solid gray;flex-grow: 1;}#sk-container-id-3 div.sk-label:hover label.sk-toggleable__label {background-color: #d4ebff;}#sk-container-id-3 div.sk-serial::before {content: \"\";position: absolute;border-left: 1px solid gray;box-sizing: border-box;top: 0;bottom: 0;left: 50%;z-index: 0;}#sk-container-id-3 div.sk-serial {display: flex;flex-direction: column;align-items: center;background-color: white;padding-right: 0.2em;padding-left: 0.2em;position: relative;}#sk-container-id-3 div.sk-item {position: relative;z-index: 1;}#sk-container-id-3 div.sk-parallel {display: flex;align-items: stretch;justify-content: center;background-color: white;position: relative;}#sk-container-id-3 div.sk-item::before, #sk-container-id-3 div.sk-parallel-item::before {content: \"\";position: absolute;border-left: 1px solid gray;box-sizing: border-box;top: 0;bottom: 0;left: 50%;z-index: -1;}#sk-container-id-3 div.sk-parallel-item {display: flex;flex-direction: column;z-index: 1;position: relative;background-color: white;}#sk-container-id-3 div.sk-parallel-item:first-child::after {align-self: flex-end;width: 50%;}#sk-container-id-3 div.sk-parallel-item:last-child::after {align-self: flex-start;width: 50%;}#sk-container-id-3 div.sk-parallel-item:only-child::after {width: 0;}#sk-container-id-3 div.sk-dashed-wrapped {border: 1px dashed gray;margin: 0 0.4em 0.5em 0.4em;box-sizing: border-box;padding-bottom: 0.4em;background-color: white;}#sk-container-id-3 div.sk-label label {font-family: monospace;font-weight: bold;display: inline-block;line-height: 1.2em;}#sk-container-id-3 div.sk-label-container {text-align: center;}#sk-container-id-3 div.sk-container {/* jupyter's `normalize.less` sets `[hidden] { display: none; }` but bootstrap.min.css set `[hidden] { display: none !important; }` so we also need the `!important` here to be able to override the default hidden behavior on the sphinx rendered scikit-learn.org. See: https://github.com/scikit-learn/scikit-learn/issues/21755 */display: inline-block !important;position: relative;}#sk-container-id-3 div.sk-text-repr-fallback {display: none;}</style><div id=\"sk-container-id-3\" class=\"sk-top-container\"><div class=\"sk-text-repr-fallback\"><pre>Pipeline(steps=[(&#x27;adaboostclassifier&#x27;, AdaBoostClassifier(random_state=0))])</pre><b>In a Jupyter environment, please rerun this cell to show the HTML representation or trust the notebook. <br />On GitHub, the HTML representation is unable to render, please try loading this page with nbviewer.org.</b></div><div class=\"sk-container\" hidden><div class=\"sk-item sk-dashed-wrapped\"><div class=\"sk-label-container\"><div class=\"sk-label sk-toggleable\"><input class=\"sk-toggleable__control sk-hidden--visually\" id=\"sk-estimator-id-5\" type=\"checkbox\" ><label for=\"sk-estimator-id-5\" class=\"sk-toggleable__label sk-toggleable__label-arrow\">Pipeline</label><div class=\"sk-toggleable__content\"><pre>Pipeline(steps=[(&#x27;adaboostclassifier&#x27;, AdaBoostClassifier(random_state=0))])</pre></div></div></div><div class=\"sk-serial\"><div class=\"sk-item\"><div class=\"sk-estimator sk-toggleable\"><input class=\"sk-toggleable__control sk-hidden--visually\" id=\"sk-estimator-id-6\" type=\"checkbox\" ><label for=\"sk-estimator-id-6\" class=\"sk-toggleable__label sk-toggleable__label-arrow\">AdaBoostClassifier</label><div class=\"sk-toggleable__content\"><pre>AdaBoostClassifier(random_state=0)</pre></div></div></div></div></div></div></div>"
      ],
      "text/plain": [
       "Pipeline(steps=[('adaboostclassifier', AdaBoostClassifier(random_state=0))])"
      ]
     },
     "execution_count": 66,
     "metadata": {},
     "output_type": "execute_result"
    }
   ],
   "source": [
    "from sklearn.ensemble import AdaBoostClassifier\n",
    "from sklearn.pipeline import make_pipeline\n",
    "from sklearn.preprocessing import StandardScaler\n",
    "\n",
    "clf = make_pipeline(\n",
    "    AdaBoostClassifier(n_estimators=50, random_state=0)\n",
    ")\n",
    "clf.fit(X_train, y_train)"
   ]
  },
  {
   "cell_type": "code",
   "execution_count": 69,
   "metadata": {},
   "outputs": [
    {
     "name": "stdout",
     "output_type": "stream",
     "text": [
      "100%|██████████| 500/500 [01:18<00:00,  6.39trial/s, best loss: -0.925215723873442]\n",
      "{'colsample_bytree': 0.6132524225971493, 'eta': 3, 'learning_rate': 0, 'max_depth': 10, 'min_child_weight': 1, 'n_estimators': 0, 'reg_alpha': 3, 'reg_lambda': 1, 'subsample': 0.8399666712003534}\n",
      "{'colsample_bytree': 0.6132524225971493, 'eta': 2, 'learning_rate': 0.1, 'max_depth': 12, 'min_child_weight': 2, 'n_estimators': 50, 'reg_alpha': 0.05, 'reg_lambda': 0.1, 'subsample': 0.8399666712003534}\n"
     ]
    }
   ],
   "source": [
    "\n",
    "from sklearn.metrics import f1_score\n",
    "from hyperopt import hp\n",
    "import xgboost as xgb\n",
    "\n",
    "def train(args):\n",
    "    learning_rate=args[\"learning_rate\"]\n",
    "    n_estimators=args[\"n_estimators\"]\n",
    "    eta=args[\"eta\"]\n",
    "    max_depth=args[\"max_depth\"]\n",
    "    subsample=args[\"subsample\"]\n",
    "    colsample_bytree=args[\"colsample_bytree\"]\n",
    "    min_child_weight=args[\"min_child_weight\"]\n",
    "    reg_alpha=args[\"reg_alpha\"]\n",
    "    reg_lambda=args[\"reg_lambda\"]\n",
    "\n",
    "    model = xgb.XGBClassifier(learning_rate=learning_rate,n_estimators=n_estimators,eta=eta,\n",
    "                              max_depth=max_depth,subsample=subsample,colsample_bytree=colsample_bytree,\n",
    "                              min_child_weight=min_child_weight,reg_alpha=reg_alpha,reg_lambda=reg_lambda)\n",
    "    model.fit(X_train, y_train)\n",
    "    return model\n",
    "\n",
    "def objective(args):\n",
    "    model=train(args)\n",
    "    y_pred=model.predict(X_val)\n",
    "    f1=f1_score(y_val,y_pred,average=\"macro\")\n",
    "    return -f1\n",
    "\n",
    "space={\"learning_rate\":hp.choice(\"learning_rate\", [0.1]),\n",
    "    \"n_estimators\":hp.choice(\"n_estimators\",[50, 100, 150, 200, 300]), # 多少棵树\n",
    "    \"eta\": hp.choice(\"eta\",[0.05, 0.1, 0, 2, 0.3]),  # 学习率\n",
    "    \"max_depth\": hp.choice(\"max_depth\",range(2, 15, 1)),  # 树的最大深度\n",
    "    \"subsample\": hp.uniform(\"subsample\", 0.7, 0.9),\n",
    "    \"colsample_bytree\": hp.uniform(\"colsample_bytree\", 0.4, 0.98),  # 选择多少列构建一个树\n",
    "    \"min_child_weight\": hp.choice(\"min_child_weight\",range(1, 9, 1)),  # 叶子节点最小样本数目\n",
    "    \"reg_alpha\": hp.choice(\"reg_alpha\",[0, 0.01, 0.02, 0.05, 0.7, 0.1, 1]),\n",
    "    \"reg_lambda\": hp.choice(\"reg_lambda\",[0, 0.1, 0.5, 1])}\n",
    "\n",
    "from hyperopt import fmin, tpe, space_eval\n",
    "best = fmin(objective, space, algo=tpe.suggest, max_evals=500)\n",
    "print(best)\n",
    "print(space_eval(space, best))\n",
    "clf=train(space_eval(space, best))"
   ]
  },
  {
   "cell_type": "code",
   "execution_count": 70,
   "metadata": {},
   "outputs": [
    {
     "name": "stdout",
     "output_type": "stream",
     "text": [
      "0.925215723873442\n"
     ]
    },
    {
     "data": {
      "text/plain": [
       "array([[296,   0],\n",
       "       [  4,  12]])"
      ]
     },
     "execution_count": 70,
     "metadata": {},
     "output_type": "execute_result"
    }
   ],
   "source": [
    "from sklearn.metrics import f1_score\n",
    "\n",
    "y_pred = clf.predict(X_val)\n",
    "print(f1_score(y_val, y_pred, average=\"macro\"))\n",
    "from sklearn.metrics import confusion_matrix\n",
    "\n",
    "confusion_matrix(y_val, y_pred)"
   ]
  },
  {
   "cell_type": "code",
   "execution_count": 71,
   "metadata": {},
   "outputs": [
    {
     "name": "stdout",
     "output_type": "stream",
     "text": [
      "[0 0 1 0 1 0 0 1 1 1]\n",
      "0.4000000000000001\n",
      "[[2 3]\n",
      " [3 2]]\n"
     ]
    }
   ],
   "source": [
    "y_pred = clf.predict(X_test)\n",
    "print(y_pred)\n",
    "print(f1_score(y_test,y_pred, average=\"macro\"))\n",
    "print(confusion_matrix(y_pred, y_test))"
   ]
  }
 ],
 "metadata": {
  "kernelspec": {
   "display_name": "cjl",
   "language": "python",
   "name": "python3"
  },
  "language_info": {
   "codemirror_mode": {
    "name": "ipython",
    "version": 3
   },
   "file_extension": ".py",
   "mimetype": "text/x-python",
   "name": "python",
   "nbconvert_exporter": "python",
   "pygments_lexer": "ipython3",
   "version": "3.10.8"
  },
  "orig_nbformat": 4
 },
 "nbformat": 4,
 "nbformat_minor": 2
}
