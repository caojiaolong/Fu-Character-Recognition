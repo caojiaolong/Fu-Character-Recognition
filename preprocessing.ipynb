{
 "cells": [
  {
   "cell_type": "code",
   "execution_count": 1,
   "metadata": {},
   "outputs": [
    {
     "name": "stdout",
     "output_type": "stream",
     "text": [
      "5.png finished\n",
      "9.png finished\n",
      "3.png finished\n",
      "1.png finished\n",
      "6.png finished\n",
      "8.png finished\n",
      "10.png finished\n",
      "2.png finished\n",
      "4.png finished\n",
      "7.png finished\n"
     ]
    }
   ],
   "source": [
    "import os\n",
    "import cv2\n",
    "import numpy as np\n",
    "\n",
    "path_raw = \"extratestdata_raw/\"\n",
    "path_preprocessed = \"extratestdata/\"\n",
    "not_fu = False  # 判断是否需要裁剪边框\n",
    "for i in os.listdir(path_raw):\n",
    "    img = cv2.imread(path_raw + i, cv2.IMREAD_GRAYSCALE)\n",
    "    ret1, img = cv2.threshold(img, 100, 255, cv2.THRESH_BINARY)  # 黑白转换\n",
    "    img = cv2.resize(img, (500, 500), interpolation=cv2.INTER_LINEAR)\n",
    "    if not_fu:\n",
    "        img = img[70:430, 70:430]\n",
    "    if img[5][5] == 255:  # 保证背景是白色，即0\n",
    "        img = 255 - img\n",
    "    x, y, w, h = cv2.boundingRect(img)  # 尝试框出文字\n",
    "    new_img = img[y : y + h, x : x + w]\n",
    "    new_img = cv2.resize(new_img, (500, 500), interpolation=cv2.INTER_LINEAR)\n",
    "    new_img = 255 - new_img\n",
    "    cv2.imwrite(path_preprocessed + i, new_img)\n",
    "    print(i + \" finished\")"
   ]
  }
 ],
 "metadata": {
  "kernelspec": {
   "display_name": "cjl",
   "language": "python",
   "name": "python3"
  },
  "language_info": {
   "codemirror_mode": {
    "name": "ipython",
    "version": 3
   },
   "file_extension": ".py",
   "mimetype": "text/x-python",
   "name": "python",
   "nbconvert_exporter": "python",
   "pygments_lexer": "ipython3",
   "version": "3.10.8"
  },
  "orig_nbformat": 4
 },
 "nbformat": 4,
 "nbformat_minor": 2
}
