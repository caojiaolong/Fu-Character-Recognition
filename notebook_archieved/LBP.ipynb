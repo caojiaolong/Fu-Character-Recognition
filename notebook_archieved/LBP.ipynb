{
 "cells": [
  {
   "cell_type": "code",
   "execution_count": 5,
   "metadata": {},
   "outputs": [],
   "source": [
    "import os\n",
    "from feature import match\n",
    "\n",
    "fu=[]\n",
    "for i in os.listdir(\"traindata/fu/\"):\n",
    "    fu.append(match(\"testdata/0001.png\",\"traindata/fu/\"+i,\"orb\",show=False))"
   ]
  },
  {
   "cell_type": "code",
   "execution_count": 6,
   "metadata": {},
   "outputs": [],
   "source": [
    "notfu=[]\n",
    "for i in os.listdir(\"traindata/not_fu/\"):\n",
    "    notfu.append(match(\"testdata/0001.png\",\"traindata/not_fu/\"+i,\"orb\",show=False))"
   ]
  }
 ],
 "metadata": {
  "kernelspec": {
   "display_name": "cjl",
   "language": "python",
   "name": "python3"
  },
  "language_info": {
   "codemirror_mode": {
    "name": "ipython",
    "version": 3
   },
   "file_extension": ".py",
   "mimetype": "text/x-python",
   "name": "python",
   "nbconvert_exporter": "python",
   "pygments_lexer": "ipython3",
   "version": "3.10.8"
  },
  "orig_nbformat": 4
 },
 "nbformat": 4,
 "nbformat_minor": 2
}
