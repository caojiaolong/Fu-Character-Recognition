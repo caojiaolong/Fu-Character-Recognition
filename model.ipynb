{
 "cells": [
  {
   "attachments": {},
   "cell_type": "markdown",
   "metadata": {},
   "source": [
    "# 福字识别模型"
   ]
  },
  {
   "attachments": {},
   "cell_type": "markdown",
   "metadata": {},
   "source": [
    "## 定义一些提取特征的函数"
   ]
  },
  {
   "cell_type": "code",
   "execution_count": 1,
   "metadata": {},
   "outputs": [],
   "source": [
    "from skimage import morphology, draw\n",
    "import numpy as np\n",
    "import matplotlib.pyplot as plt\n",
    "import cv2\n",
    "\n",
    "\n",
    "def readimage(t_name):\n",
    "    image = cv2.imread(t_name, cv2.IMREAD_GRAYSCALE)\n",
    "    ret, image = cv2.threshold(image, 127, 255, cv2.THRESH_BINARY)\n",
    "    image = 255 - image\n",
    "\n",
    "    # 实施骨架算法\n",
    "    skeleton = morphology.skeletonize(image)\n",
    "\n",
    "    skeleton = 255 - skeleton\n",
    "    image = 255 - image\n",
    "    skeleton[skeleton != 255] = 0\n",
    "    return image, skeleton\n",
    "\n",
    "\n",
    "def features0(t_name):\n",
    "    # img = cv2.imread(t_name,cv2.IMREAD_GRAYSCALE)\n",
    "    # ret,img=cv2.threshold(img,127,255,cv2.THRESH_BINARY)\n",
    "    _, img = readimage(t_name)\n",
    "\n",
    "    sumleft = np.zeros((10))\n",
    "    for i in range(10):\n",
    "        for x in range(50):\n",
    "            for y in range(500):\n",
    "                if img[x + i * 50][y] == 0:\n",
    "                    sumleft[i] += y\n",
    "\n",
    "    sumright = np.zeros((10))\n",
    "    for i in range(10):\n",
    "        for x in range(50):\n",
    "            for y in range(500):\n",
    "                if img[x + i * 50][499 - y] == 0:\n",
    "                    sumright[i] += y\n",
    "\n",
    "    sumup = np.zeros((10))\n",
    "    for i in range(10):\n",
    "        for y in range(50):\n",
    "            for x in range(500):\n",
    "                if img[x][y + i * 50] == 0:\n",
    "                    sumup[i] += x\n",
    "\n",
    "    sumdown = np.zeros((10))\n",
    "    for i in range(10):\n",
    "        for y in range(50):\n",
    "            for x in range(500):\n",
    "                if img[499 - x][y + i * 50] == 0:\n",
    "                    sumdown[i] += x\n",
    "\n",
    "    feature2 = np.concatenate((sumleft, sumright, sumup, sumdown), axis=0)\n",
    "    sumleft3 = np.zeros((10))\n",
    "    for i in range(10):\n",
    "        for x in range(50):\n",
    "            flag = 0\n",
    "            begin = 0\n",
    "            for y in range(500):\n",
    "                if img[x + i * 50][y] == 0 and flag == 0:\n",
    "                    flag += 1\n",
    "                if img[x + i * 50][y] == 255 and flag == 1:\n",
    "                    flag += 1\n",
    "                    begin = y\n",
    "                if img[x + i * 50][y] == 0 and flag == 2:\n",
    "                    flag += 1\n",
    "                    sumleft3[i] += y - begin\n",
    "\n",
    "    sumright3 = np.zeros((10))\n",
    "    for i in range(10):\n",
    "        for x in range(50):\n",
    "            flag = 0\n",
    "            begin = 0\n",
    "            for y in range(500):\n",
    "                if img[x + i * 50][499 - y] == 0 and flag == 0:\n",
    "                    flag += 1\n",
    "                if img[x + i * 50][499 - y] == 255 and flag == 1:\n",
    "                    flag += 1\n",
    "                    begin = y\n",
    "                if img[x + i * 50][499 - y] == 0 and flag == 2:\n",
    "                    flag += 1\n",
    "                    sumright3[i] += y - begin\n",
    "\n",
    "    sumup3 = np.zeros((10))\n",
    "    for i in range(10):\n",
    "        for y in range(50):\n",
    "            flag = 0\n",
    "            begin = 0\n",
    "            for x in range(500):\n",
    "                if img[x][y + i * 50] == 0 and flag == 0:\n",
    "                    flag += 1\n",
    "                if img[x][y + i * 50] == 255 and flag == 1:\n",
    "                    flag += 1\n",
    "                    begin = x\n",
    "                if img[x][y + i * 50] == 0 and flag == 2:\n",
    "                    flag += 1\n",
    "                    sumup3[i] += x - begin\n",
    "\n",
    "    sumdown3 = np.zeros((10))\n",
    "    for i in range(10):\n",
    "        for y in range(50):\n",
    "            flag = 0\n",
    "            begin = 0\n",
    "            for x in range(500):\n",
    "                if img[499 - x][y + i * 50] == 0 and flag == 0:\n",
    "                    flag += 1\n",
    "                if img[499 - x][y + i * 50] == 255 and flag == 1:\n",
    "                    flag += 1\n",
    "                    begin = x\n",
    "                if img[499 - x][y + i * 50] == 0 and flag == 2:\n",
    "                    flag += 1\n",
    "                    sumdown3[i] += x - begin\n",
    "\n",
    "    feature3 = np.concatenate((sumleft3, sumright3, sumup3, sumdown3), axis=0)\n",
    "    feature23 = np.concatenate((feature2 / 25, feature3), axis=0)\n",
    "    return feature23\n",
    "\n",
    "\n",
    "import os\n",
    "import numpy as np\n",
    "from sklearn.cluster import KMeans\n",
    "from feature import feature\n",
    "\n",
    "\n",
    "class BoW:\n",
    "    def __init__(self, PathofData, dim=50, method=\"sift\", data_dim=128) -> None:\n",
    "        self.dim = dim\n",
    "        self.method = method\n",
    "        self.data_dim = data_dim\n",
    "        data = np.empty([0, data_dim])\n",
    "        for i in PathofData:\n",
    "            if method in [\"sift\", \"surf\", \"orb\"]:\n",
    "                feat = feature(i, method, show=False)[1]\n",
    "            elif method == \"shi-tomasi\":\n",
    "                feat = np.squeeze(feature(i, method, show=False))\n",
    "            else:\n",
    "                print(\"no method. \")\n",
    "                return []\n",
    "            if feat is not None:\n",
    "                data = np.concatenate((data, feat), axis=0)\n",
    "        kmeans = KMeans(n_clusters=dim, random_state=0, n_init=\"auto\").fit(data)\n",
    "        self.kmeans = kmeans\n",
    "\n",
    "    def fit(self, PathofData):\n",
    "        N = len(PathofData)\n",
    "        Word = np.zeros([N, self.dim])\n",
    "        for index, i in enumerate(PathofData):\n",
    "            if self.method in [\"sift\", \"surf\", \"orb\"]:\n",
    "                feat = feature(i, self.method, show=False)[1]\n",
    "            elif self.method == \"shi-tomasi\":\n",
    "                feat = np.squeeze(feature(i, self.method, show=False))\n",
    "            else:\n",
    "                print(\"no method. \")\n",
    "                return []\n",
    "            if feat is not None:\n",
    "                label = self.kmeans.predict(feat.astype(float))\n",
    "                hist, _ = np.histogram(label, bins=range(self.dim + 1))\n",
    "            else:\n",
    "                hist = np.zeros((1, self.dim))\n",
    "            if np.sum(hist) != 0:\n",
    "                hist = hist / np.sum(hist)\n",
    "            Word[index] = hist\n",
    "        return Word\n",
    "\n",
    "    def getSPM(self, PathofData, level):\n",
    "        width = 500\n",
    "        N = len(PathofData)\n",
    "        Word = np.zeros([N, int(self.dim * (4**level - 1) / 3)])\n",
    "        for index, i in enumerate(PathofData):\n",
    "            counter = 0\n",
    "            for l in range(level):\n",
    "                x, y = 0, 0\n",
    "                step = np.floor(width / 2**l).astype(int)\n",
    "                for _ in range(2**l):\n",
    "                    x = 0\n",
    "                    for _ in range(2**l):\n",
    "                        if self.method in [\"sift\", \"surf\", \"orb\"]:\n",
    "                            feat = feature(\n",
    "                                i,\n",
    "                                self.method,\n",
    "                                show=False,\n",
    "                                x_start=x,\n",
    "                                x_end=x + step,\n",
    "                                y_start=y,\n",
    "                                y_end=y + step,\n",
    "                            )[1]\n",
    "                        elif self.method == \"shi-tomasi\":\n",
    "                            feat = feature(\n",
    "                                i,\n",
    "                                self.method,\n",
    "                                show=False,\n",
    "                                x_start=x,\n",
    "                                x_end=x + step,\n",
    "                                y_start=y,\n",
    "                                y_end=y + step,\n",
    "                            )\n",
    "                            if feat is not None:\n",
    "                                feat = np.squeeze(feat, axis=1)\n",
    "                        else:\n",
    "                            print(\"no method. \")\n",
    "                            return []\n",
    "                        if feat is not None:\n",
    "                            label = self.kmeans.predict(feat.astype(float))\n",
    "                            hist, _ = np.histogram(label, bins=range(self.dim + 1))\n",
    "                            weight = 2 ** (l - level)\n",
    "                            hist = hist * weight\n",
    "                        else:\n",
    "                            hist = np.zeros((1, self.dim))\n",
    "                        Word[index][\n",
    "                            counter * self.dim : (counter + 1) * self.dim\n",
    "                        ] = np.copy(hist)\n",
    "                        counter += 1\n",
    "                        x = x + step\n",
    "                    y = y + step\n",
    "        return Word"
   ]
  },
  {
   "attachments": {},
   "cell_type": "markdown",
   "metadata": {},
   "source": [
    "## 定义一些常数"
   ]
  },
  {
   "cell_type": "code",
   "execution_count": 2,
   "metadata": {},
   "outputs": [
    {
     "data": {
      "text/plain": [
       "(1580, (1580,))"
      ]
     },
     "execution_count": 2,
     "metadata": {},
     "output_type": "execute_result"
    }
   ],
   "source": [
    "pathfu = \"./traindata/fu/\"\n",
    "pathnotfu = \"./traindata/not_fu/\"\n",
    "pathtest = \"./testdata/\"\n",
    "pathextratest = \"./extratestdata/\"\n",
    "num_fu = len(os.listdir(pathfu))\n",
    "num_notfu = len(os.listdir(pathnotfu))\n",
    "num_test = len(os.listdir(pathtest))\n",
    "num_extratest = len(os.listdir(pathextratest))\n",
    "num_train = num_fu + num_notfu\n",
    "\n",
    "t_name = [pathtest + \"000{0}.png\".format(i + 1) for i in range(9)]\n",
    "t_name.append(pathtest + \"0010.png\")\n",
    "ext_name = [pathextratest + str(i + 1) + \".png\" for i in range(10)]\n",
    "all = (\n",
    "    [pathfu + i for i in os.listdir(pathfu)]\n",
    "    + [pathnotfu + i for i in os.listdir(pathnotfu)]\n",
    "    + t_name\n",
    "    + ext_name\n",
    ")\n",
    "y = np.concatenate(\n",
    "    (\n",
    "        np.ones(num_fu),\n",
    "        0 * np.ones(num_notfu),\n",
    "        np.ones(5),\n",
    "        0 * np.ones(5),\n",
    "        np.ones(5),\n",
    "        0 * np.ones(5),\n",
    "    )\n",
    ")\n",
    "len(all), y.shape"
   ]
  },
  {
   "attachments": {},
   "cell_type": "markdown",
   "metadata": {},
   "source": [
    "## 获取视觉词袋特征（BOVW）"
   ]
  },
  {
   "cell_type": "code",
   "execution_count": 3,
   "metadata": {},
   "outputs": [
    {
     "data": {
      "text/plain": [
       "(1580, 20)"
      ]
     },
     "execution_count": 3,
     "metadata": {},
     "output_type": "execute_result"
    }
   ],
   "source": [
    "dim = 5 # 每个特征对应到视觉词袋的维数\n",
    "Features = [(\"sift\", 128), (\"surf\", 64), (\"orb\", 32), (\"shi-tomasi\", 2)]\n",
    "BOWfeat = np.zeros((len(all), 0))\n",
    "for method, data_dim in Features:\n",
    "    BoWfu = BoW(\n",
    "        all,\n",
    "        method=method,\n",
    "        data_dim=data_dim,\n",
    "        dim=dim,\n",
    "    )\n",
    "    BOWfeat = np.concatenate(\n",
    "        (\n",
    "            BOWfeat,\n",
    "            BoWfu.fit(all),\n",
    "        ),\n",
    "        axis=1,\n",
    "    )\n",
    "BOWfeat.shape"
   ]
  },
  {
   "attachments": {},
   "cell_type": "markdown",
   "metadata": {},
   "source": [
    "## 提取汉字特征\n",
    "\n",
    "外轮廓特征、内轮廓特征已经并在一起了"
   ]
  },
  {
   "cell_type": "code",
   "execution_count": 4,
   "metadata": {},
   "outputs": [],
   "source": [
    "import multiprocessing\n",
    "\n",
    "char_feat = np.zeros((len(all), 80))\n",
    "num_processes = multiprocessing.cpu_count() - 2  # 使用核心数\n",
    "pool = multiprocessing.Pool(processes=num_processes)  # 实例化进程池\n",
    "result = pool.map(features0, all)\n",
    "for i in range(len(result)):\n",
    "    char_feat[i] = result[i]"
   ]
  },
  {
   "attachments": {},
   "cell_type": "markdown",
   "metadata": {},
   "source": [
    "## 拆分训练集、验证集、测试集"
   ]
  },
  {
   "cell_type": "code",
   "execution_count": 5,
   "metadata": {},
   "outputs": [
    {
     "name": "stdout",
     "output_type": "stream",
     "text": [
      "(1580, 100)\n"
     ]
    }
   ],
   "source": [
    "data = np.concatenate((char_feat, BOWfeat), axis=1)  # 特征向量\n",
    "print(data.shape)\n",
    "X = data\n",
    "\n",
    "from sklearn.model_selection import train_test_split\n",
    "\n",
    "X_train, X_val, y_train, y_val = train_test_split(\n",
    "    X[:num_train, :], y[:num_train], test_size=0.2, random_state=42\n",
    ")\n",
    "X_test = X[num_train : num_train + num_test]\n",
    "y_test = y[num_train : num_train + num_test]\n",
    "X_exttest = X[-10:, :]\n",
    "y_exttest = y[-10:]"
   ]
  },
  {
   "attachments": {},
   "cell_type": "markdown",
   "metadata": {},
   "source": [
    "## 定义AdaBoost分类器"
   ]
  },
  {
   "cell_type": "code",
   "execution_count": 6,
   "metadata": {},
   "outputs": [
    {
     "data": {
      "text/html": [
       "<style>#sk-container-id-1 {color: black;background-color: white;}#sk-container-id-1 pre{padding: 0;}#sk-container-id-1 div.sk-toggleable {background-color: white;}#sk-container-id-1 label.sk-toggleable__label {cursor: pointer;display: block;width: 100%;margin-bottom: 0;padding: 0.3em;box-sizing: border-box;text-align: center;}#sk-container-id-1 label.sk-toggleable__label-arrow:before {content: \"▸\";float: left;margin-right: 0.25em;color: #696969;}#sk-container-id-1 label.sk-toggleable__label-arrow:hover:before {color: black;}#sk-container-id-1 div.sk-estimator:hover label.sk-toggleable__label-arrow:before {color: black;}#sk-container-id-1 div.sk-toggleable__content {max-height: 0;max-width: 0;overflow: hidden;text-align: left;background-color: #f0f8ff;}#sk-container-id-1 div.sk-toggleable__content pre {margin: 0.2em;color: black;border-radius: 0.25em;background-color: #f0f8ff;}#sk-container-id-1 input.sk-toggleable__control:checked~div.sk-toggleable__content {max-height: 200px;max-width: 100%;overflow: auto;}#sk-container-id-1 input.sk-toggleable__control:checked~label.sk-toggleable__label-arrow:before {content: \"▾\";}#sk-container-id-1 div.sk-estimator input.sk-toggleable__control:checked~label.sk-toggleable__label {background-color: #d4ebff;}#sk-container-id-1 div.sk-label input.sk-toggleable__control:checked~label.sk-toggleable__label {background-color: #d4ebff;}#sk-container-id-1 input.sk-hidden--visually {border: 0;clip: rect(1px 1px 1px 1px);clip: rect(1px, 1px, 1px, 1px);height: 1px;margin: -1px;overflow: hidden;padding: 0;position: absolute;width: 1px;}#sk-container-id-1 div.sk-estimator {font-family: monospace;background-color: #f0f8ff;border: 1px dotted black;border-radius: 0.25em;box-sizing: border-box;margin-bottom: 0.5em;}#sk-container-id-1 div.sk-estimator:hover {background-color: #d4ebff;}#sk-container-id-1 div.sk-parallel-item::after {content: \"\";width: 100%;border-bottom: 1px solid gray;flex-grow: 1;}#sk-container-id-1 div.sk-label:hover label.sk-toggleable__label {background-color: #d4ebff;}#sk-container-id-1 div.sk-serial::before {content: \"\";position: absolute;border-left: 1px solid gray;box-sizing: border-box;top: 0;bottom: 0;left: 50%;z-index: 0;}#sk-container-id-1 div.sk-serial {display: flex;flex-direction: column;align-items: center;background-color: white;padding-right: 0.2em;padding-left: 0.2em;position: relative;}#sk-container-id-1 div.sk-item {position: relative;z-index: 1;}#sk-container-id-1 div.sk-parallel {display: flex;align-items: stretch;justify-content: center;background-color: white;position: relative;}#sk-container-id-1 div.sk-item::before, #sk-container-id-1 div.sk-parallel-item::before {content: \"\";position: absolute;border-left: 1px solid gray;box-sizing: border-box;top: 0;bottom: 0;left: 50%;z-index: -1;}#sk-container-id-1 div.sk-parallel-item {display: flex;flex-direction: column;z-index: 1;position: relative;background-color: white;}#sk-container-id-1 div.sk-parallel-item:first-child::after {align-self: flex-end;width: 50%;}#sk-container-id-1 div.sk-parallel-item:last-child::after {align-self: flex-start;width: 50%;}#sk-container-id-1 div.sk-parallel-item:only-child::after {width: 0;}#sk-container-id-1 div.sk-dashed-wrapped {border: 1px dashed gray;margin: 0 0.4em 0.5em 0.4em;box-sizing: border-box;padding-bottom: 0.4em;background-color: white;}#sk-container-id-1 div.sk-label label {font-family: monospace;font-weight: bold;display: inline-block;line-height: 1.2em;}#sk-container-id-1 div.sk-label-container {text-align: center;}#sk-container-id-1 div.sk-container {/* jupyter's `normalize.less` sets `[hidden] { display: none; }` but bootstrap.min.css set `[hidden] { display: none !important; }` so we also need the `!important` here to be able to override the default hidden behavior on the sphinx rendered scikit-learn.org. See: https://github.com/scikit-learn/scikit-learn/issues/21755 */display: inline-block !important;position: relative;}#sk-container-id-1 div.sk-text-repr-fallback {display: none;}</style><div id=\"sk-container-id-1\" class=\"sk-top-container\"><div class=\"sk-text-repr-fallback\"><pre>Pipeline(steps=[(&#x27;standardscaler&#x27;, StandardScaler()),\n",
       "                (&#x27;adaboostclassifier&#x27;,\n",
       "                 AdaBoostClassifier(n_estimators=200, random_state=0))])</pre><b>In a Jupyter environment, please rerun this cell to show the HTML representation or trust the notebook. <br />On GitHub, the HTML representation is unable to render, please try loading this page with nbviewer.org.</b></div><div class=\"sk-container\" hidden><div class=\"sk-item sk-dashed-wrapped\"><div class=\"sk-label-container\"><div class=\"sk-label sk-toggleable\"><input class=\"sk-toggleable__control sk-hidden--visually\" id=\"sk-estimator-id-1\" type=\"checkbox\" ><label for=\"sk-estimator-id-1\" class=\"sk-toggleable__label sk-toggleable__label-arrow\">Pipeline</label><div class=\"sk-toggleable__content\"><pre>Pipeline(steps=[(&#x27;standardscaler&#x27;, StandardScaler()),\n",
       "                (&#x27;adaboostclassifier&#x27;,\n",
       "                 AdaBoostClassifier(n_estimators=200, random_state=0))])</pre></div></div></div><div class=\"sk-serial\"><div class=\"sk-item\"><div class=\"sk-estimator sk-toggleable\"><input class=\"sk-toggleable__control sk-hidden--visually\" id=\"sk-estimator-id-2\" type=\"checkbox\" ><label for=\"sk-estimator-id-2\" class=\"sk-toggleable__label sk-toggleable__label-arrow\">StandardScaler</label><div class=\"sk-toggleable__content\"><pre>StandardScaler()</pre></div></div></div><div class=\"sk-item\"><div class=\"sk-estimator sk-toggleable\"><input class=\"sk-toggleable__control sk-hidden--visually\" id=\"sk-estimator-id-3\" type=\"checkbox\" ><label for=\"sk-estimator-id-3\" class=\"sk-toggleable__label sk-toggleable__label-arrow\">AdaBoostClassifier</label><div class=\"sk-toggleable__content\"><pre>AdaBoostClassifier(n_estimators=200, random_state=0)</pre></div></div></div></div></div></div></div>"
      ],
      "text/plain": [
       "Pipeline(steps=[('standardscaler', StandardScaler()),\n",
       "                ('adaboostclassifier',\n",
       "                 AdaBoostClassifier(n_estimators=200, random_state=0))])"
      ]
     },
     "execution_count": 6,
     "metadata": {},
     "output_type": "execute_result"
    }
   ],
   "source": [
    "from sklearn.ensemble import AdaBoostClassifier\n",
    "from sklearn.pipeline import make_pipeline\n",
    "from sklearn.preprocessing import StandardScaler\n",
    "\n",
    "n_estimators = 200  ##超参\n",
    "\n",
    "clf = make_pipeline(\n",
    "    StandardScaler(), AdaBoostClassifier(n_estimators=n_estimators, random_state=0)\n",
    ")\n",
    "clf.fit(X_train, y_train)"
   ]
  },
  {
   "attachments": {},
   "cell_type": "markdown",
   "metadata": {},
   "source": [
    "## 网格调参"
   ]
  },
  {
   "cell_type": "code",
   "execution_count": 7,
   "metadata": {},
   "outputs": [
    {
     "name": "stdout",
     "output_type": "stream",
     "text": [
      "最佳参数组合:  {'learning_rate': 1.0, 'n_estimators': 400}\n",
      "最佳F1得分:  0.9497728973920182\n"
     ]
    }
   ],
   "source": [
    "from sklearn.model_selection import GridSearchCV\n",
    "\n",
    "# 参数范围\n",
    "param_grid = {\n",
    "    'n_estimators': [100, 200, 300, 400, 500],  \n",
    "    'learning_rate': [0.1, 0.5, 1.0]  \n",
    "}\n",
    "\n",
    "clf=AdaBoostClassifier(random_state=0)\n",
    "\n",
    "# 网格搜索，5折交叉验证\n",
    "grid_search = GridSearchCV(clf, param_grid, cv=5, scoring='f1_macro')\n",
    "grid_search.fit(X_train, y_train)\n",
    "\n",
    "# 输出最佳参数组合和对应的评分\n",
    "print(\"最佳参数组合: \", grid_search.best_params_)\n",
    "print(\"最佳F1得分: \", grid_search.best_score_)\n"
   ]
  },
  {
   "cell_type": "code",
   "execution_count": 8,
   "metadata": {},
   "outputs": [],
   "source": [
    "clf=grid_search.best_estimator_"
   ]
  },
  {
   "attachments": {},
   "cell_type": "markdown",
   "metadata": {},
   "source": [
    "## 评价验证集分类效果（F1-macro）"
   ]
  },
  {
   "cell_type": "code",
   "execution_count": 15,
   "metadata": {},
   "outputs": [
    {
     "name": "stdout",
     "output_type": "stream",
     "text": [
      "0.925215723873442\n"
     ]
    },
    {
     "data": {
      "text/plain": [
       "array([[296,   0],\n",
       "       [  4,  12]])"
      ]
     },
     "execution_count": 15,
     "metadata": {},
     "output_type": "execute_result"
    }
   ],
   "source": [
    "from sklearn.metrics import f1_score\n",
    "\n",
    "clf.fit(X_train, y_train)\n",
    "y_pred = clf.predict(X_val)\n",
    "print(f1_score(y_val, y_pred, average=\"macro\"))\n",
    "from sklearn.metrics import confusion_matrix\n",
    "\n",
    "confusion_matrix(y_val, y_pred)"
   ]
  },
  {
   "cell_type": "code",
   "execution_count": 17,
   "metadata": {},
   "outputs": [
    {
     "data": {
      "image/png": "[encoded data removed]",
      "text/plain": [
       "<Figure size 640x480 with 1 Axes>"
      ]
     },
     "metadata": {},
     "output_type": "display_data"
    }
   ],
   "source": [
    "import matplotlib.pyplot as plt\n",
    "from sklearn.metrics import roc_curve, roc_auc_score\n",
    "\n",
    "probalilities = clf.predict_proba(X_test)[:, 1]  # 假设为正类的概率\n",
    "fpr, tpr, thresholds = roc_curve(y_test, probalilities)\n",
    "\n",
    "# 计算AUC值\n",
    "auc = roc_auc_score(y_test, probalilities)\n",
    "\n",
    "# 绘制ROC曲线\n",
    "plt.plot(fpr, tpr, label='ROC curve (AUC = %0.2f)' % auc)\n",
    "plt.plot([0, 1], [0, 1], 'k--')  # 绘制对角线\n",
    "plt.show()"
   ]
  },
  {
   "cell_type": "code",
   "execution_count": 10,
   "metadata": {},
   "outputs": [
    {
     "name": "stdout",
     "output_type": "stream",
     "text": [
      "分类报告:\n",
      "              precision    recall  f1-score   support\n",
      "\n",
      "         0.0       0.99      1.00      0.99       296\n",
      "         1.0       1.00      0.75      0.86        16\n",
      "\n",
      "    accuracy                           0.99       312\n",
      "   macro avg       0.99      0.88      0.93       312\n",
      "weighted avg       0.99      0.99      0.99       312\n",
      "\n"
     ]
    }
   ],
   "source": [
    "from sklearn.metrics import classification_report\n",
    "\n",
    "print('分类报告:') \t#包括准确率、召回率、f1得分等\n",
    "print(classification_report(y_val, y_pred))"
   ]
  },
  {
   "attachments": {},
   "cell_type": "markdown",
   "metadata": {},
   "source": [
    "## 评价测试集分类效果（F1-macro）"
   ]
  },
  {
   "cell_type": "code",
   "execution_count": 11,
   "metadata": {},
   "outputs": [
    {
     "name": "stdout",
     "output_type": "stream",
     "text": [
      "[1. 1. 1. 1. 1. 0. 0. 0. 0. 0.]\n",
      "1.0\n",
      "[[5 0]\n",
      " [0 5]]\n"
     ]
    }
   ],
   "source": [
    "clf.fit(X[:num_train, :], y[:num_train])\n",
    "y_pred = clf.predict(X_test)\n",
    "print(y_pred)\n",
    "print(f1_score(y_test, y_pred, average=\"macro\"))\n",
    "print(confusion_matrix(y_pred, y_test))"
   ]
  },
  {
   "cell_type": "code",
   "execution_count": 12,
   "metadata": {},
   "outputs": [
    {
     "name": "stdout",
     "output_type": "stream",
     "text": [
      "分类报告:\n",
      "              precision    recall  f1-score   support\n",
      "\n",
      "         0.0       1.00      1.00      1.00         5\n",
      "         1.0       1.00      1.00      1.00         5\n",
      "\n",
      "    accuracy                           1.00        10\n",
      "   macro avg       1.00      1.00      1.00        10\n",
      "weighted avg       1.00      1.00      1.00        10\n",
      "\n"
     ]
    }
   ],
   "source": [
    "from sklearn.metrics import classification_report\n",
    "\n",
    "print('分类报告:') \t#包括准确率、召回率、f1得分等\n",
    "print(classification_report(y_test, y_pred))"
   ]
  },
  {
   "attachments": {},
   "cell_type": "markdown",
   "metadata": {},
   "source": [
    "## 尝试单分类模型效果"
   ]
  },
  {
   "cell_type": "code",
   "execution_count": 13,
   "metadata": {},
   "outputs": [
    {
     "name": "stdout",
     "output_type": "stream",
     "text": [
      "f1_val:0.19007727860910978, nu:0.01, kernel:linear, f1_test:0.5238095238095238\n",
      "f1_val:0.19007727860910978, nu:0.01, kernel:poly, f1_test:0.5238095238095238\n",
      "f1_val:0.7672206367858542, nu:0.01, kernel:rbf, f1_test:0.8000000000000002\n",
      "f1_val:0.19007727860910978, nu:0.01, kernel:sigmoid, f1_test:0.5238095238095238\n",
      "f1_val:0.43396316102198457, nu:0.01, kernel:<function kernal at 0x7fbe31112290>, f1_test:0.6703296703296704\n",
      "f1_val:0.24694766273496735, nu:0.04379310344827586, kernel:linear, f1_test:0.6703296703296704\n",
      "f1_val:0.25551627271076555, nu:0.04379310344827586, kernel:poly, f1_test:0.6703296703296704\n",
      "f1_val:0.7618204398105519, nu:0.04379310344827586, kernel:rbf, f1_test:0.8000000000000002\n",
      "f1_val:0.2416468144890355, nu:0.04379310344827586, kernel:sigmoid, f1_test:0.6703296703296704\n",
      "f1_val:0.43396316102198457, nu:0.04379310344827586, kernel:<function kernal at 0x7fbe31112290>, f1_test:0.6703296703296704\n",
      "f1_val:0.29426770391921236, nu:0.07758620689655171, kernel:linear, f1_test:0.6703296703296704\n",
      "f1_val:0.302052342091533, nu:0.07758620689655171, kernel:poly, f1_test:0.6703296703296704\n",
      "f1_val:0.7583444508374484, nu:0.07758620689655171, kernel:rbf, f1_test:0.8000000000000002\n",
      "f1_val:0.290777224744298, nu:0.07758620689655171, kernel:sigmoid, f1_test:0.6703296703296704\n",
      "f1_val:0.4499696048632219, nu:0.07758620689655171, kernel:<function kernal at 0x7fbe31112290>, f1_test:0.6703296703296704\n",
      "f1_val:0.34009028395671487, nu:0.11137931034482758, kernel:linear, f1_test:0.6703296703296704\n",
      "f1_val:0.3419026272052209, nu:0.11137931034482758, kernel:poly, f1_test:0.6703296703296704\n",
      "f1_val:0.7548380747073978, nu:0.11137931034482758, kernel:rbf, f1_test:0.8000000000000002\n",
      "f1_val:0.3349822790287478, nu:0.11137931034482758, kernel:sigmoid, f1_test:0.6703296703296704\n",
      "f1_val:0.5121493573505957, nu:0.11137931034482758, kernel:<function kernal at 0x7fbe31112290>, f1_test:0.6703296703296704\n",
      "f1_val:0.356186453963535, nu:0.14517241379310344, kernel:linear, f1_test:0.6703296703296704\n",
      "f1_val:0.360321608040201, nu:0.14517241379310344, kernel:poly, f1_test:0.6703296703296704\n",
      "f1_val:0.763276196738725, nu:0.14517241379310344, kernel:rbf, f1_test:0.8000000000000002\n",
      "f1_val:0.35539622641509433, nu:0.14517241379310344, kernel:sigmoid, f1_test:0.6703296703296704\n",
      "f1_val:0.5377160056245714, nu:0.14517241379310344, kernel:<function kernal at 0x7fbe31112290>, f1_test:0.6703296703296704\n",
      "f1_val:0.3935009289803966, nu:0.1789655172413793, kernel:linear, f1_test:0.6703296703296704\n",
      "f1_val:0.3920011455313939, nu:0.1789655172413793, kernel:poly, f1_test:0.6703296703296704\n",
      "f1_val:0.741896135579144, nu:0.1789655172413793, kernel:rbf, f1_test:0.8000000000000002\n",
      "f1_val:0.39634201642565625, nu:0.1789655172413793, kernel:sigmoid, f1_test:0.6703296703296704\n",
      "f1_val:0.5619122006813498, nu:0.1789655172413793, kernel:<function kernal at 0x7fbe31112290>, f1_test:0.6703296703296704\n",
      "f1_val:0.3951810375787652, nu:0.21275862068965518, kernel:linear, f1_test:0.6703296703296704\n",
      "f1_val:0.3990053095241511, nu:0.21275862068965518, kernel:poly, f1_test:0.6703296703296704\n",
      "f1_val:0.7527266033654951, nu:0.21275862068965518, kernel:rbf, f1_test:0.8000000000000002\n",
      "f1_val:0.39602772077896936, nu:0.21275862068965518, kernel:sigmoid, f1_test:0.6703296703296704\n",
      "f1_val:0.5795776159983175, nu:0.21275862068965518, kernel:<function kernal at 0x7fbe31112290>, f1_test:0.7916666666666665\n",
      "f1_val:0.40595555052021376, nu:0.24655172413793103, kernel:linear, f1_test:0.6703296703296704\n",
      "f1_val:0.41217324486870677, nu:0.24655172413793103, kernel:poly, f1_test:0.6703296703296704\n",
      "f1_val:0.7534039877851626, nu:0.24655172413793103, kernel:rbf, f1_test:0.8000000000000002\n",
      "f1_val:0.40097374369674843, nu:0.24655172413793103, kernel:sigmoid, f1_test:0.6703296703296704\n",
      "f1_val:0.5865063343847077, nu:0.24655172413793103, kernel:<function kernal at 0x7fbe31112290>, f1_test:0.7916666666666665\n",
      "f1_val:0.4170133253317694, nu:0.2803448275862069, kernel:linear, f1_test:0.7916666666666665\n",
      "f1_val:0.42005664684681154, nu:0.2803448275862069, kernel:poly, f1_test:0.7916666666666665\n",
      "f1_val:0.7805354815780121, nu:0.2803448275862069, kernel:rbf, f1_test:0.8000000000000002\n",
      "f1_val:0.41522955172324905, nu:0.2803448275862069, kernel:sigmoid, f1_test:0.7916666666666665\n",
      "f1_val:0.5804840568574722, nu:0.2803448275862069, kernel:<function kernal at 0x7fbe31112290>, f1_test:0.7916666666666665\n",
      "f1_val:0.42273962495001155, nu:0.31413793103448273, kernel:linear, f1_test:0.7916666666666665\n",
      "f1_val:0.4284627438703151, nu:0.31413793103448273, kernel:poly, f1_test:0.7916666666666665\n",
      "f1_val:0.7790346834829007, nu:0.31413793103448273, kernel:rbf, f1_test:0.898989898989899\n",
      "f1_val:0.42273962495001155, nu:0.31413793103448273, kernel:sigmoid, f1_test:0.7916666666666665\n",
      "f1_val:0.592731412611812, nu:0.31413793103448273, kernel:<function kernal at 0x7fbe31112290>, f1_test:0.7916666666666665\n",
      "f1_val:0.4444904516620567, nu:0.3479310344827586, kernel:linear, f1_test:0.7916666666666665\n",
      "f1_val:0.44306589467879787, nu:0.3479310344827586, kernel:poly, f1_test:0.7916666666666665\n",
      "f1_val:0.7635892323030907, nu:0.3479310344827586, kernel:rbf, f1_test:0.7916666666666665\n",
      "f1_val:0.44264490498983766, nu:0.3479310344827586, kernel:sigmoid, f1_test:0.7916666666666665\n",
      "f1_val:0.6366931788840569, nu:0.3479310344827586, kernel:<function kernal at 0x7fbe31112290>, f1_test:0.7916666666666665\n",
      "f1_val:0.4450340295761455, nu:0.38172413793103444, kernel:linear, f1_test:0.6969696969696968\n",
      "f1_val:0.44468076323190775, nu:0.38172413793103444, kernel:poly, f1_test:0.6969696969696968\n",
      "f1_val:0.7728349484694662, nu:0.38172413793103444, kernel:rbf, f1_test:0.7916666666666665\n",
      "f1_val:0.44374423432777915, nu:0.38172413793103444, kernel:sigmoid, f1_test:0.6969696969696968\n",
      "f1_val:0.6442100461674037, nu:0.38172413793103444, kernel:<function kernal at 0x7fbe31112290>, f1_test:0.7916666666666665\n",
      "f1_val:0.44725789446393693, nu:0.41551724137931034, kernel:linear, f1_test:0.6969696969696968\n",
      "f1_val:0.44864840733052075, nu:0.41551724137931034, kernel:poly, f1_test:0.6969696969696968\n",
      "f1_val:0.7758922558922559, nu:0.41551724137931034, kernel:rbf, f1_test:0.7916666666666665\n",
      "f1_val:0.4463901554366103, nu:0.41551724137931034, kernel:sigmoid, f1_test:0.6969696969696968\n",
      "f1_val:0.6585949870621404, nu:0.41551724137931034, kernel:<function kernal at 0x7fbe31112290>, f1_test:0.7916666666666665\n",
      "f1_val:0.44821842482866575, nu:0.4493103448275862, kernel:linear, f1_test:0.6969696969696968\n",
      "f1_val:0.4522568764698305, nu:0.4493103448275862, kernel:poly, f1_test:0.6969696969696968\n",
      "f1_val:0.779403071573457, nu:0.4493103448275862, kernel:rbf, f1_test:0.6703296703296704\n",
      "f1_val:0.4498285177354945, nu:0.4493103448275862, kernel:sigmoid, f1_test:0.6969696969696968\n",
      "f1_val:0.6585191397000789, nu:0.4493103448275862, kernel:<function kernal at 0x7fbe31112290>, f1_test:0.7916666666666665\n",
      "f1_val:0.4528327602723047, nu:0.48310344827586205, kernel:linear, f1_test:0.6969696969696968\n",
      "f1_val:0.4552334490414986, nu:0.48310344827586205, kernel:poly, f1_test:0.6969696969696968\n",
      "f1_val:0.7671476566724822, nu:0.48310344827586205, kernel:rbf, f1_test:0.6703296703296704\n",
      "f1_val:0.45454687252223325, nu:0.48310344827586205, kernel:sigmoid, f1_test:0.6969696969696968\n",
      "f1_val:0.6579283259695631, nu:0.48310344827586205, kernel:<function kernal at 0x7fbe31112290>, f1_test:0.6969696969696968\n",
      "f1_val:0.459328755198762, nu:0.5168965517241378, kernel:linear, f1_test:0.6\n",
      "f1_val:0.4616554198342872, nu:0.5168965517241378, kernel:poly, f1_test:0.6\n",
      "f1_val:0.7695411816845885, nu:0.5168965517241378, kernel:rbf, f1_test:0.6703296703296704\n",
      "f1_val:0.451445917730132, nu:0.5168965517241378, kernel:sigmoid, f1_test:0.6969696969696968\n",
      "f1_val:0.6602576068695165, nu:0.5168965517241378, kernel:<function kernal at 0x7fbe31112290>, f1_test:0.6\n",
      "f1_val:0.45873489071295437, nu:0.5506896551724138, kernel:linear, f1_test:0.6\n",
      "f1_val:0.4648166920385389, nu:0.5506896551724138, kernel:poly, f1_test:0.6\n",
      "f1_val:0.7549596421947813, nu:0.5506896551724138, kernel:rbf, f1_test:0.6703296703296704\n",
      "f1_val:0.4567204907480419, nu:0.5506896551724138, kernel:sigmoid, f1_test:0.6\n",
      "f1_val:0.6546046205283634, nu:0.5506896551724138, kernel:<function kernal at 0x7fbe31112290>, f1_test:0.6969696969696968\n",
      "f1_val:0.4648665466167611, nu:0.5844827586206897, kernel:linear, f1_test:0.6\n",
      "f1_val:0.4652573630608312, nu:0.5844827586206897, kernel:poly, f1_test:0.6\n",
      "f1_val:0.7533847491502841, nu:0.5844827586206897, kernel:rbf, f1_test:0.6703296703296704\n",
      "f1_val:0.45987671839347943, nu:0.5844827586206897, kernel:sigmoid, f1_test:0.6\n",
      "f1_val:0.630810009150863, nu:0.5844827586206897, kernel:<function kernal at 0x7fbe31112290>, f1_test:0.6969696969696968\n",
      "f1_val:0.46759101255642377, nu:0.6182758620689655, kernel:linear, f1_test:0.6\n",
      "f1_val:0.46263442473215055, nu:0.6182758620689655, kernel:poly, f1_test:0.6\n",
      "f1_val:0.7403462050599201, nu:0.6182758620689655, kernel:rbf, f1_test:0.6703296703296704\n",
      "f1_val:0.461981169488634, nu:0.6182758620689655, kernel:sigmoid, f1_test:0.6\n",
      "f1_val:0.6329411764705882, nu:0.6182758620689655, kernel:<function kernal at 0x7fbe31112290>, f1_test:0.6969696969696968\n",
      "f1_val:0.46421737466513585, nu:0.6520689655172414, kernel:linear, f1_test:0.6\n",
      "f1_val:0.4635661877849419, nu:0.6520689655172414, kernel:poly, f1_test:0.6\n",
      "f1_val:0.712908434650456, nu:0.6520689655172414, kernel:rbf, f1_test:0.5238095238095238\n",
      "f1_val:0.46519586427843307, nu:0.6520689655172414, kernel:sigmoid, f1_test:0.6\n",
      "f1_val:0.6202844978382125, nu:0.6520689655172414, kernel:<function kernal at 0x7fbe31112290>, f1_test:0.6969696969696968\n",
      "f1_val:0.4606240165224233, nu:0.6858620689655172, kernel:linear, f1_test:0.6\n",
      "f1_val:0.46252812912237135, nu:0.6858620689655172, kernel:poly, f1_test:0.4949494949494949\n",
      "f1_val:0.712908434650456, nu:0.6858620689655172, kernel:rbf, f1_test:0.5238095238095238\n",
      "f1_val:0.45999099372317653, nu:0.6858620689655172, kernel:sigmoid, f1_test:0.6\n",
      "f1_val:0.6244932432432433, nu:0.6858620689655172, kernel:<function kernal at 0x7fbe31112290>, f1_test:0.6969696969696968\n",
      "f1_val:0.46515877799783767, nu:0.7196551724137931, kernel:linear, f1_test:0.4949494949494949\n",
      "f1_val:0.4608018843770802, nu:0.7196551724137931, kernel:poly, f1_test:0.4949494949494949\n",
      "f1_val:0.6951527803195499, nu:0.7196551724137931, kernel:rbf, f1_test:0.5238095238095238\n",
      "f1_val:0.45986051342929213, nu:0.7196551724137931, kernel:sigmoid, f1_test:0.4949494949494949\n",
      "f1_val:0.6347493480150681, nu:0.7196551724137931, kernel:<function kernal at 0x7fbe31112290>, f1_test:0.5833333333333333\n",
      "f1_val:0.46216683461837854, nu:0.7534482758620689, kernel:linear, f1_test:0.4949494949494949\n",
      "f1_val:0.45897491290409886, nu:0.7534482758620689, kernel:poly, f1_test:0.4949494949494949\n",
      "f1_val:0.6818231972154514, nu:0.7534482758620689, kernel:rbf, f1_test:0.5238095238095238\n",
      "f1_val:0.4606448553816975, nu:0.7534482758620689, kernel:sigmoid, f1_test:0.4949494949494949\n",
      "f1_val:0.6269548998039121, nu:0.7534482758620689, kernel:<function kernal at 0x7fbe31112290>, f1_test:0.5238095238095238\n",
      "f1_val:0.45964943109431977, nu:0.7872413793103448, kernel:linear, f1_test:0.4949494949494949\n",
      "f1_val:0.46137981728446914, nu:0.7872413793103448, kernel:poly, f1_test:0.4949494949494949\n",
      "f1_val:0.6489994515616431, nu:0.7872413793103448, kernel:rbf, f1_test:0.5238095238095238\n",
      "f1_val:0.4602442333785618, nu:0.7872413793103448, kernel:sigmoid, f1_test:0.4949494949494949\n",
      "f1_val:0.6112860641918758, nu:0.7872413793103448, kernel:<function kernal at 0x7fbe31112290>, f1_test:0.5238095238095238\n",
      "f1_val:0.45684732097866865, nu:0.8210344827586207, kernel:linear, f1_test:0.4949494949494949\n",
      "f1_val:0.45986741243882745, nu:0.8210344827586207, kernel:poly, f1_test:0.4949494949494949\n",
      "f1_val:0.6293173491131517, nu:0.8210344827586207, kernel:rbf, f1_test:0.3333333333333333\n",
      "f1_val:0.45372118410068707, nu:0.8210344827586207, kernel:sigmoid, f1_test:0.4949494949494949\n",
      "f1_val:0.6005780023602744, nu:0.8210344827586207, kernel:<function kernal at 0x7fbe31112290>, f1_test:0.5238095238095238\n",
      "f1_val:0.4557955925733125, nu:0.8548275862068965, kernel:linear, f1_test:0.4949494949494949\n",
      "f1_val:0.4569037168812611, nu:0.8548275862068965, kernel:poly, f1_test:0.4949494949494949\n",
      "f1_val:0.6207415772633164, nu:0.8548275862068965, kernel:rbf, f1_test:0.3333333333333333\n",
      "f1_val:0.451623492496809, nu:0.8548275862068965, kernel:sigmoid, f1_test:0.4949494949494949\n",
      "f1_val:0.5844540599540016, nu:0.8548275862068965, kernel:<function kernal at 0x7fbe31112290>, f1_test:0.5238095238095238\n",
      "f1_val:0.44679781040252226, nu:0.8886206896551724, kernel:linear, f1_test:0.4949494949494949\n",
      "f1_val:0.45123265507212307, nu:0.8886206896551724, kernel:poly, f1_test:0.375\n",
      "f1_val:0.5880711247608253, nu:0.8886206896551724, kernel:rbf, f1_test:0.3333333333333333\n",
      "f1_val:0.4501561686621551, nu:0.8886206896551724, kernel:sigmoid, f1_test:0.4949494949494949\n",
      "f1_val:0.5797170149131572, nu:0.8886206896551724, kernel:<function kernal at 0x7fbe31112290>, f1_test:0.5238095238095238\n",
      "f1_val:0.447394287613666, nu:0.9224137931034482, kernel:linear, f1_test:0.375\n",
      "f1_val:0.4503573209240485, nu:0.9224137931034482, kernel:poly, f1_test:0.375\n",
      "f1_val:0.5529257067718607, nu:0.9224137931034482, kernel:rbf, f1_test:0.3333333333333333\n",
      "f1_val:0.4493821262901178, nu:0.9224137931034482, kernel:sigmoid, f1_test:0.375\n",
      "f1_val:0.5447775617631343, nu:0.9224137931034482, kernel:<function kernal at 0x7fbe31112290>, f1_test:0.5238095238095238\n",
      "f1_val:0.46085889178189854, nu:0.9562068965517241, kernel:linear, f1_test:0.2857142857142857\n",
      "f1_val:0.4610893693462501, nu:0.9562068965517241, kernel:poly, f1_test:0.2857142857142857\n",
      "f1_val:0.5279756553011965, nu:0.9562068965517241, kernel:rbf, f1_test:0.3333333333333333\n",
      "f1_val:0.4656675854527066, nu:0.9562068965517241, kernel:sigmoid, f1_test:0.2857142857142857\n",
      "f1_val:0.5228684359119142, nu:0.9562068965517241, kernel:<function kernal at 0x7fbe31112290>, f1_test:0.5238095238095238\n",
      "f1_val:0.5016947347873152, nu:0.99, kernel:linear, f1_test:0.3333333333333333\n",
      "f1_val:0.48802100426649164, nu:0.99, kernel:poly, f1_test:0.3333333333333333\n",
      "f1_val:0.48802100426649164, nu:0.99, kernel:rbf, f1_test:0.3333333333333333\n",
      "f1_val:0.5016947347873152, nu:0.99, kernel:sigmoid, f1_test:0.3333333333333333\n",
      "f1_val:0.4876847290640394, nu:0.99, kernel:<function kernal at 0x7fbe31112290>, f1_test:0.3333333333333333\n",
      "0.7805354815780121\n",
      "[0.19007727860910978, 0.19007727860910978, 0.7672206367858542, 0.19007727860910978, 0.43396316102198457, 0.24694766273496735, 0.25551627271076555, 0.7618204398105519, 0.2416468144890355, 0.43396316102198457, 0.29426770391921236, 0.302052342091533, 0.7583444508374484, 0.290777224744298, 0.4499696048632219, 0.34009028395671487, 0.3419026272052209, 0.7548380747073978, 0.3349822790287478, 0.5121493573505957, 0.356186453963535, 0.360321608040201, 0.763276196738725, 0.35539622641509433, 0.5377160056245714, 0.3935009289803966, 0.3920011455313939, 0.741896135579144, 0.39634201642565625, 0.5619122006813498, 0.3951810375787652, 0.3990053095241511, 0.7527266033654951, 0.39602772077896936, 0.5795776159983175, 0.40595555052021376, 0.41217324486870677, 0.7534039877851626, 0.40097374369674843, 0.5865063343847077, 0.4170133253317694, 0.42005664684681154, 0.7805354815780121, 0.41522955172324905, 0.5804840568574722, 0.42273962495001155, 0.4284627438703151, 0.7790346834829007, 0.42273962495001155, 0.592731412611812, 0.4444904516620567, 0.44306589467879787, 0.7635892323030907, 0.44264490498983766, 0.6366931788840569, 0.4450340295761455, 0.44468076323190775, 0.7728349484694662, 0.44374423432777915, 0.6442100461674037, 0.44725789446393693, 0.44864840733052075, 0.7758922558922559, 0.4463901554366103, 0.6585949870621404, 0.44821842482866575, 0.4522568764698305, 0.779403071573457, 0.4498285177354945, 0.6585191397000789, 0.4528327602723047, 0.4552334490414986, 0.7671476566724822, 0.45454687252223325, 0.6579283259695631, 0.459328755198762, 0.4616554198342872, 0.7695411816845885, 0.451445917730132, 0.6602576068695165, 0.45873489071295437, 0.4648166920385389, 0.7549596421947813, 0.4567204907480419, 0.6546046205283634, 0.4648665466167611, 0.4652573630608312, 0.7533847491502841, 0.45987671839347943, 0.630810009150863, 0.46759101255642377, 0.46263442473215055, 0.7403462050599201, 0.461981169488634, 0.6329411764705882, 0.46421737466513585, 0.4635661877849419, 0.712908434650456, 0.46519586427843307, 0.6202844978382125, 0.4606240165224233, 0.46252812912237135, 0.712908434650456, 0.45999099372317653, 0.6244932432432433, 0.46515877799783767, 0.4608018843770802, 0.6951527803195499, 0.45986051342929213, 0.6347493480150681, 0.46216683461837854, 0.45897491290409886, 0.6818231972154514, 0.4606448553816975, 0.6269548998039121, 0.45964943109431977, 0.46137981728446914, 0.6489994515616431, 0.4602442333785618, 0.6112860641918758, 0.45684732097866865, 0.45986741243882745, 0.6293173491131517, 0.45372118410068707, 0.6005780023602744, 0.4557955925733125, 0.4569037168812611, 0.6207415772633164, 0.451623492496809, 0.5844540599540016, 0.44679781040252226, 0.45123265507212307, 0.5880711247608253, 0.4501561686621551, 0.5797170149131572, 0.447394287613666, 0.4503573209240485, 0.5529257067718607, 0.4493821262901178, 0.5447775617631343, 0.46085889178189854, 0.4610893693462501, 0.5279756553011965, 0.4656675854527066, 0.5228684359119142, 0.5016947347873152, 0.48802100426649164, 0.48802100426649164, 0.5016947347873152, 0.4876847290640394]\n"
     ]
    }
   ],
   "source": [
    "import numpy as np\n",
    "from sklearn.pipeline import make_pipeline\n",
    "from sklearn.preprocessing import StandardScaler\n",
    "from sklearn.svm import SVC\n",
    "from sklearn.ensemble import IsolationForest\n",
    "\n",
    "\n",
    "def intersection(hist_1, hist_2):\n",
    "    minima = np.minimum(hist_1, hist_2)\n",
    "    a = np.sum(minima)\n",
    "    return a\n",
    "\n",
    "\n",
    "def kernal(X1, X2):  # 直方图交叉核\n",
    "    result = np.zeros((len(X1), len(X2)))\n",
    "    for i in range(len(X1)):\n",
    "        for j in range(len(X2)):\n",
    "            result[i][j] = intersection(X1[i, :], X2[j, :])\n",
    "    return result\n",
    "\n",
    "\n",
    "from sklearn.svm import OneClassSVM\n",
    "\n",
    "f1 = []\n",
    "for nu in np.linspace(0.01, 0.99, 30):\n",
    "    for kernel in [\"linear\", \"poly\", \"rbf\", \"sigmoid\", kernal]:\n",
    "        oneclassclf = make_pipeline(OneClassSVM(nu=nu, kernel=kernel))\n",
    "        oneclassclf.fit(X[:num_fu, :])\n",
    "\n",
    "        y_pred = oneclassclf.predict(X[:num_train, :])\n",
    "        y_val_new = np.copy(y[:num_train])\n",
    "        y_val_new[y_val_new == 0] = -1\n",
    "        f1s = f1_score(y_val_new, y_pred, average=\"macro\")\n",
    "        f1.append(f1s)\n",
    "\n",
    "        from sklearn.metrics import f1_score\n",
    "\n",
    "        y_pred = oneclassclf.predict(X_test)\n",
    "\n",
    "        f1_test = f1_score(\n",
    "            np.concatenate((np.ones(5), -np.ones(5))), y_pred, average=\"macro\"\n",
    "        )\n",
    "        print(f\"f1_val:{f1s}, nu:{nu}, kernel:{kernel}, f1_test:{f1_test}\")\n",
    "\n",
    "        from sklearn.metrics import confusion_matrix\n",
    "\n",
    "        confusion_matrix(np.concatenate((np.ones(5), -np.ones(5))), y_pred)\n",
    "print(max(f1))\n",
    "print(f1)"
   ]
  },
  {
   "attachments": {},
   "cell_type": "markdown",
   "metadata": {},
   "source": [
    "## 比较监督分类器与单分类器在额外测试集上的性能"
   ]
  },
  {
   "cell_type": "code",
   "execution_count": 14,
   "metadata": {},
   "outputs": [
    {
     "name": "stdout",
     "output_type": "stream",
     "text": [
      "监督学习模型\n",
      "[1. 0. 0. 1. 0. 1. 0. 1. 1. 0.]\n",
      "0.4000000000000001\n",
      "[[2 3]\n",
      " [3 2]]\n",
      "单分类模型\n",
      "[ 1 -1  1 -1 -1  1 -1 -1 -1 -1]\n",
      "0.5833333333333333\n",
      "[[4 3]\n",
      " [1 2]]\n"
     ]
    }
   ],
   "source": [
    "print(\"监督学习模型\")\n",
    "clf.fit(X[:num_train, :], y[:num_train])\n",
    "y_pred = clf.predict(X_exttest)\n",
    "print(y_pred)\n",
    "print(f1_score(y_exttest, y_pred, average=\"macro\"))\n",
    "print(confusion_matrix(y_pred, y_exttest))\n",
    "\n",
    "print(\"单分类模型\")\n",
    "oneclassclf = make_pipeline(\n",
    "    OneClassSVM(nu=0.2803448275862069, kernel=\"rbf\")\n",
    ")  ## 从上得到的最优模型\n",
    "oneclassclf.fit(X[:num_fu, :])\n",
    "y_pred = oneclassclf.predict(X_exttest)\n",
    "print(y_pred)\n",
    "print(f1_score(np.concatenate((np.ones(5), -np.ones(5))), y_pred, average=\"macro\"))\n",
    "print(confusion_matrix(y_pred, np.concatenate((np.ones(5), -np.ones(5)))))"
   ]
  }
 ],
 "metadata": {
  "kernelspec": {
   "display_name": "cjl",
   "language": "python",
   "name": "python3"
  },
  "language_info": {
   "codemirror_mode": {
    "name": "ipython",
    "version": 3
   },
   "file_extension": ".py",
   "mimetype": "text/x-python",
   "name": "python",
   "nbconvert_exporter": "python",
   "pygments_lexer": "ipython3",
   "version": "3.10.8"
  },
  "orig_nbformat": 4
 },
 "nbformat": 4,
 "nbformat_minor": 2
}
