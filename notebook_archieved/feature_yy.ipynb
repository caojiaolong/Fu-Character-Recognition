{
 "cells": [
  {
   "cell_type": "code",
   "execution_count": 1,
   "metadata": {},
   "outputs": [],
   "source": [
    "#%matplotlib widget\n",
    "\n",
    "import os\n",
    "from feature import feature\n",
    "import numpy as np\n",
    "from sklearn.decomposition import PCA\n",
    "from sklearn.cluster import KMeans\n",
    "from skimage import morphology,draw\n",
    "import cv2\n",
    "\n",
    "f_path = \"./traindata/fu/\"\n",
    "nf_path = \"./traindata/not_fu/\"\n",
    "f_name = [f_path + i for i in os.listdir(f_path)]\n",
    "nf_name = [nf_path + i for i in os.listdir(nf_path)]\n",
    "t_path = \"./testdata/\"\n",
    "t_name = [t_path + \"000{0}.png\".format(i + 1) for i in range(9)]\n",
    "t_name.append(t_path + \"0010.png\")\n",
    "\n",
    "def readimage(t_name):\n",
    "    image = cv2.imread(t_name,cv2.IMREAD_GRAYSCALE)\n",
    "    ret,image=cv2.threshold(image, 127, 255, cv2.THRESH_BINARY)\n",
    "    image=255-image\n",
    "    image=image/255\n",
    "\n",
    "    #实施骨架算法\n",
    "    skeleton =morphology.skeletonize(image)\n",
    "\n",
    "    image=image*255\n",
    "    skeleton=255-skeleton\n",
    "    image=255-image\n",
    "    skeleton[skeleton!=255]=0\n",
    "    return skeleton\n",
    "\n",
    "def features0(t_name):\n",
    "    # img = cv2.imread(t_name,cv2.IMREAD_GRAYSCALE)\n",
    "    # ret,img=cv2.threshold(img,127,255,cv2.THRESH_BINARY)\n",
    "    img=readimage(t_name)\n",
    "\n",
    "    sumleft=np.zeros((10))\n",
    "    for i in range(10):\n",
    "        for x in range(50):\n",
    "            for y in range(500):\n",
    "                if img[x+i*50][y]==0:\n",
    "                    sumleft[i]+=y\n",
    "\n",
    "    sumright=np.zeros((10))\n",
    "    for i in range(10):\n",
    "        for x in range(50):\n",
    "            for y in range(500):\n",
    "                if img[x+i*50][499-y]==0:\n",
    "                    sumright[i]+=y\n",
    "\n",
    "    sumup=np.zeros((10))\n",
    "    for i in range(10):\n",
    "        for y in range(50):\n",
    "            for x in range(500):\n",
    "                if img[x][y+i*50]==0:\n",
    "                    sumup[i]+=x\n",
    "\n",
    "    sumdown=np.zeros((10))\n",
    "    for i in range(10):\n",
    "        for y in range(50):\n",
    "            for x in range(500):\n",
    "                if img[499-x][y+i*50]==0:\n",
    "                    sumdown[i]+=x\n",
    "\n",
    "    feature2=np.concatenate((sumleft,sumright,sumup,sumdown),axis=0)\n",
    "    sumleft3=np.zeros((10))\n",
    "    for i in range(10):\n",
    "        for x in range(50):\n",
    "            flag=0\n",
    "            begin=0\n",
    "            for y in range(500):\n",
    "                if img[x+i*50][y]==0 and flag==0:\n",
    "                    flag+=1\n",
    "                if img[x+i*50][y]==255 and flag==1:\n",
    "                    flag+=1\n",
    "                    begin=y\n",
    "                if img[x+i*50][y]==0 and flag==2:\n",
    "                    flag+=1\n",
    "                    sumleft3[i]+=y-begin\n",
    "\n",
    "    sumright3=np.zeros((10))\n",
    "    for i in range(10):\n",
    "        for x in range(50):\n",
    "            flag=0\n",
    "            begin=0\n",
    "            for y in range(500):\n",
    "                if img[x+i*50][499-y]==0  and flag==0:\n",
    "                    flag+=1\n",
    "                if img[x+i*50][499-y]==255  and flag==1:\n",
    "                    flag+=1\n",
    "                    begin=y\n",
    "                if img[x+i*50][499-y]==0  and flag==2:\n",
    "                    flag+=1\n",
    "                    sumright3[i]+=y-begin\n",
    "\n",
    "    sumup3=np.zeros((10))\n",
    "    for i in range(10):\n",
    "        for y in range(50):\n",
    "            flag=0\n",
    "            begin=0\n",
    "            for x in range(500):\n",
    "                if img[x][y+i*50]==0 and flag==0:\n",
    "                    flag+=1\n",
    "                if img[x][y+i*50]==255 and flag==1:\n",
    "                    flag+=1\n",
    "                    begin=x\n",
    "                if img[x][y+i*50]==0 and flag==2:\n",
    "                    flag+=1\n",
    "                    sumup3[i]+=x-begin\n",
    "\n",
    "    sumdown3=np.zeros((10))\n",
    "    for i in range(10):\n",
    "        for y in range(50):\n",
    "            flag=0\n",
    "            begin=0\n",
    "            for x in range(500):\n",
    "                if img[499-x][y+i*50]==0 and flag==0:\n",
    "                    flag+=1\n",
    "                if img[499-x][y+i*50]==255 and flag==1:\n",
    "                    flag+=1\n",
    "                    begin=x\n",
    "                if img[499-x][y+i*50]==0 and flag==2:\n",
    "                    flag+=1\n",
    "                    sumdown3[i]+=x-begin\n",
    "\n",
    "    feature3=np.concatenate((sumleft3,sumright3,sumup3,sumdown3),axis=0)\n",
    "    feature23=np.concatenate((feature2/25,feature3),axis=0)\n",
    "    return feature23"
   ]
  },
  {
   "cell_type": "code",
   "execution_count": 8,
   "metadata": {},
   "outputs": [
    {
     "data": {
      "text/plain": [
       "'./traindata/not_fu/notfu (97).png'"
      ]
     },
     "execution_count": 8,
     "metadata": {},
     "output_type": "execute_result"
    }
   ],
   "source": [
    "nf_name[0]"
   ]
  },
  {
   "cell_type": "code",
   "execution_count": 3,
   "metadata": {},
   "outputs": [],
   "source": [
    "from feature import match\n",
    "from sklearn import svm\n",
    "from sklearn.svm import OneClassSVM\n",
    "\n",
    "X_train=[]\n",
    "y_train=[]\n",
    "for i in range(len(nf_name)):\n",
    "    X_train.append(features0(nf_name[i]))\n",
    "    y_train.append([0])\n",
    "for i in range(len(f_name)):\n",
    "    X_train.append(features0(f_name[i]))\n",
    "    y_train.append([1])\n",
    "\n",
    "\n",
    "\n",
    "\n"
   ]
  },
  {
   "cell_type": "code",
   "execution_count": 4,
   "metadata": {},
   "outputs": [],
   "source": [
    "X_test=[]\n",
    "for i in range(10):\n",
    "    X_test.append(features0(t_name[i]))\n"
   ]
  },
  {
   "cell_type": "code",
   "execution_count": 9,
   "metadata": {},
   "outputs": [
    {
     "data": {
      "text/plain": [
       "array([2129.56, 2256.68, 5851.76, 4219.68, 4731.36, 4834.56, 4558.72,\n",
       "       4707.04, 7932.4 ,  989.04, 1103.96, 3332.12, 3569.36, 5181.48,\n",
       "       5607.92, 4047.64, 4044.04, 4993.52, 7935.8 , 1066.84, 1979.24,\n",
       "       3558.44, 1787.2 , 3765.72, 9808.88, 8991.08, 7414.24, 4531.04,\n",
       "       1315.28, 1204.76,  655.48, 2210.  , 3621.96, 3280.16, 5959.52,\n",
       "       8434.  , 9072.72, 4011.84,  760.56,  731.36,  337.  , 4659.  ,\n",
       "       3943.  , 3520.  , 2838.  , 5909.  , 5353.  , 2620.  , 2635.  ,\n",
       "        111.  ,  579.  , 5862.  , 1414.  , 2522.  , 1937.  , 7119.  ,\n",
       "       5837.  , 3485.  , 1272.  ,   82.  , 2931.  , 6117.  , 1995.  ,\n",
       "       5815.  , 6980.  , 3707.  ,  981.  , 5105.  , 5498.  ,  674.  ,\n",
       "       1733.  , 4505.  , 3447.  , 3044.  ,  930.  ,  617.  , 1109.  ,\n",
       "       1302.  , 5409.  ,  674.  ])"
      ]
     },
     "execution_count": 9,
     "metadata": {},
     "output_type": "execute_result"
    }
   ],
   "source": [
    "X_test[0]"
   ]
  },
  {
   "cell_type": "code",
   "execution_count": 5,
   "metadata": {},
   "outputs": [
    {
     "name": "stderr",
     "output_type": "stream",
     "text": [
      "/home/zhaohui/anaconda3/envs/cjl/lib/python3.10/site-packages/sklearn/utils/validation.py:1143: DataConversionWarning: A column-vector y was passed when a 1d array was expected. Please change the shape of y to (n_samples, ), for example using ravel().\n",
      "  y = column_or_1d(y, warn=True)\n"
     ]
    },
    {
     "data": {
      "text/plain": [
       "0.9871794871794872"
      ]
     },
     "execution_count": 5,
     "metadata": {},
     "output_type": "execute_result"
    }
   ],
   "source": [
    "from sklearn.model_selection import train_test_split\n",
    "from sklearn.metrics import accuracy_score\n",
    "X_train1, X_test1, y_train1, y_test1 = train_test_split(X_train, y_train, test_size=0.2, random_state=0)\n",
    "clf = svm.SVC(kernel='poly')\n",
    "clf.fit(X_train1, y_train1)\n",
    "y_pred = clf.predict(X_test1)\n",
    "accuracy = accuracy_score(y_test1, y_pred)\n",
    "accuracy"
   ]
  },
  {
   "cell_type": "code",
   "execution_count": 7,
   "metadata": {},
   "outputs": [
    {
     "name": "stderr",
     "output_type": "stream",
     "text": [
      "/home/zhaohui/anaconda3/envs/cjl/lib/python3.10/site-packages/sklearn/utils/validation.py:1143: DataConversionWarning: A column-vector y was passed when a 1d array was expected. Please change the shape of y to (n_samples, ), for example using ravel().\n",
      "  y = column_or_1d(y, warn=True)\n"
     ]
    },
    {
     "data": {
      "text/plain": [
       "array([1, 1, 1, 1, 1, 0, 0, 0, 0, 0])"
      ]
     },
     "execution_count": 7,
     "metadata": {},
     "output_type": "execute_result"
    }
   ],
   "source": [
    "clf = svm.SVC(kernel='poly')\n",
    "clf.fit(X_train, y_train)\n",
    "y_pred = clf.predict(X_test)\n",
    "y_pred"
   ]
  }
 ],
 "metadata": {
  "kernelspec": {
   "display_name": "cjl",
   "language": "python",
   "name": "python3"
  },
  "language_info": {
   "codemirror_mode": {
    "name": "ipython",
    "version": 3
   },
   "file_extension": ".py",
   "mimetype": "text/x-python",
   "name": "python",
   "nbconvert_exporter": "python",
   "pygments_lexer": "ipython3",
   "version": "3.10.8"
  },
  "orig_nbformat": 4
 },
 "nbformat": 4,
 "nbformat_minor": 2
}
