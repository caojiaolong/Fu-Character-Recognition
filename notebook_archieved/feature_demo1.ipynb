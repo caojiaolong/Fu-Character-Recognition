{
 "cells": [
  {
   "cell_type": "code",
   "execution_count": 30,
   "metadata": {},
   "outputs": [],
   "source": [
    "#%matplotlib widget\n",
    "\n",
    "from feature import feature\n",
    "import numpy as np\n",
    "from sklearn.decomposition import PCA\n",
    "from sklearn.cluster import KMeans\n",
    "import cv2\n",
    "\n",
    "f_path = \"./traindata/fu/\"\n",
    "f_name = [f_path + \"fu ({0}).png\".format(i + 1) for i in range(209)]\n",
    "t_path = \"./testdata/\"\n",
    "t_name = [t_path + \"000{0}.png\".format(i + 1) for i in range(9)]\n",
    "t_name.append(t_path + \"0010.png\")\n",
    "\n",
    "def features0(t_name):\n",
    "    img = cv2.imread(t_name,cv2.IMREAD_GRAYSCALE)\n",
    "    ret,img=cv2.threshold(img,127,255,cv2.THRESH_BINARY)\n",
    "\n",
    "    sumleft=np.zeros((4))\n",
    "    for i in range(4):\n",
    "        for x in range(125):\n",
    "            for y in range(500):\n",
    "                if img[x+i*125][y]==0:\n",
    "                    sumleft[i]+=y\n",
    "\n",
    "    sumright=np.zeros((4))\n",
    "    for i in range(4):\n",
    "        for x in range(125):\n",
    "            for y in range(500):\n",
    "                if img[x+i*125][499-y]==0:\n",
    "                    sumright[i]+=y\n",
    "\n",
    "    sumup=np.zeros((4))\n",
    "    for i in range(4):\n",
    "        for y in range(125):\n",
    "            for x in range(500):\n",
    "                if img[x][y+i*125]==0:\n",
    "                    sumup[i]+=x\n",
    "\n",
    "    sumdown=np.zeros((4))\n",
    "    for i in range(4):\n",
    "        for y in range(125):\n",
    "            for x in range(500):\n",
    "                if img[499-x][y+i*125]==0:\n",
    "                    sumdown[i]+=x\n",
    "\n",
    "    feature2=np.concatenate((sumleft,sumright,sumup,sumdown),axis=0)\n",
    "    sumleft3=np.zeros((4))\n",
    "    for i in range(4):\n",
    "        for x in range(125):\n",
    "            flag=0\n",
    "            begin=0\n",
    "            for y in range(500):\n",
    "                if img[x+i*125][y]==0 and flag==0:\n",
    "                    flag+=1\n",
    "                if img[x+i*125][y]==255 and flag==1:\n",
    "                    flag+=1\n",
    "                    begin=y\n",
    "                if img[x+i*125][y]==0 and flag==2:\n",
    "                    flag+=1\n",
    "                    sumleft3[i]+=y-begin\n",
    "\n",
    "    sumright3=np.zeros((4))\n",
    "    for i in range(4):\n",
    "        for x in range(125):\n",
    "            flag=0\n",
    "            begin=0\n",
    "            for y in range(500):\n",
    "                if img[x+i*125][499-y]==0  and flag==0:\n",
    "                    flag+=1\n",
    "                if img[x+i*125][499-y]==255  and flag==1:\n",
    "                    flag+=1\n",
    "                    begin=y\n",
    "                if img[x+i*125][499-y]==0  and flag==2:\n",
    "                    flag+=1\n",
    "                    sumright3[i]+=y-begin\n",
    "\n",
    "    sumup3=np.zeros((4))\n",
    "    for i in range(4):\n",
    "        for y in range(125):\n",
    "            flag=0\n",
    "            begin=0\n",
    "            for x in range(500):\n",
    "                if img[x][y+i*125]==0 and flag==0:\n",
    "                    flag+=1\n",
    "                if img[x][y+i*125]==255 and flag==1:\n",
    "                    flag+=1\n",
    "                    begin=x\n",
    "                if img[x][y+i*125]==0 and flag==2:\n",
    "                    flag+=1\n",
    "                    sumup3[i]+=x-begin\n",
    "\n",
    "    sumdown3=np.zeros((4))\n",
    "    for i in range(4):\n",
    "        for y in range(125):\n",
    "            flag=0\n",
    "            begin=0\n",
    "            for x in range(500):\n",
    "                if img[499-x][y+i*125]==0 and flag==0:\n",
    "                    flag+=1\n",
    "                if img[499-x][y+i*125]==255 and flag==1:\n",
    "                    flag+=1\n",
    "                    begin=x\n",
    "                if img[499-x][y+i*125]==0 and flag==2:\n",
    "                    flag+=1\n",
    "                    sumdown3[i]+=x-begin\n",
    "\n",
    "    feature3=np.concatenate((sumleft3,sumright3,sumup3,sumdown3),axis=0)\n",
    "    feature23=np.concatenate((feature2,feature3),axis=0)\n",
    "    return feature23"
   ]
  },
  {
   "cell_type": "code",
   "execution_count": 27,
   "metadata": {},
   "outputs": [
    {
     "data": {
      "text/plain": [
       "array([1504., 3393., 5553., 2895., 1360., 2044., 4382., 1375., 1779.,\n",
       "       4700., 3412.,  171., 1471., 3088., 2300.,  171.])"
      ]
     },
     "execution_count": 27,
     "metadata": {},
     "output_type": "execute_result"
    }
   ],
   "source": []
  },
  {
   "cell_type": "code",
   "execution_count": 29,
   "metadata": {},
   "outputs": [
    {
     "data": {
      "text/plain": [
       "array([2.293744e+06, 4.024997e+06, 5.894483e+06, 1.284310e+06,\n",
       "       2.621406e+06, 4.824768e+06, 5.661359e+06, 1.788532e+06,\n",
       "       1.947159e+06, 5.285344e+06, 5.661583e+06, 1.148905e+06,\n",
       "       1.176082e+06, 6.190159e+06, 6.284477e+06, 6.998900e+05,\n",
       "       1.504000e+03, 3.393000e+03, 5.553000e+03, 2.895000e+03,\n",
       "       1.360000e+03, 2.044000e+03, 4.382000e+03, 1.375000e+03,\n",
       "       1.779000e+03, 4.700000e+03, 3.412000e+03, 1.710000e+02,\n",
       "       1.471000e+03, 3.088000e+03, 2.300000e+03, 1.710000e+02])"
      ]
     },
     "execution_count": 29,
     "metadata": {},
     "output_type": "execute_result"
    }
   ],
   "source": []
  },
  {
   "cell_type": "code",
   "execution_count": 6,
   "metadata": {},
   "outputs": [
    {
     "name": "stdout",
     "output_type": "stream",
     "text": [
      "0 0.23725862068965523 0.20859133126935\n",
      "1 0.2459116379310346 0.3029278784952373\n",
      "1 0.23551221264367814 0.28332891598197724\n",
      "1 0.26821192528735605 0.3492422014915396\n",
      "1 0.27748922413793053 0.2963978682849032\n",
      "0 0.32013002873563157 0.23853556260416112\n",
      "1 0.2609181034482758 0.2879051934471936\n",
      "1 0.22313721264367828 0.24700206202078032\n",
      "1 0.25455675287356344 0.2548059228221173\n"
     ]
    },
    {
     "ename": "KeyboardInterrupt",
     "evalue": "",
     "output_type": "error",
     "traceback": [
      "\u001b[1;31m---------------------------------------------------------------------------\u001b[0m",
      "\u001b[1;31mKeyboardInterrupt\u001b[0m                         Traceback (most recent call last)",
      "\u001b[1;32m<ipython-input-6-58aeb9157476>\u001b[0m in \u001b[0;36m<module>\u001b[1;34m\u001b[0m\n\u001b[0;32m      7\u001b[0m     \u001b[0msumt\u001b[0m\u001b[1;33m=\u001b[0m\u001b[1;36m0\u001b[0m\u001b[1;33m\u001b[0m\u001b[1;33m\u001b[0m\u001b[0m\n\u001b[0;32m      8\u001b[0m     \u001b[1;32mfor\u001b[0m \u001b[0mi\u001b[0m \u001b[1;32min\u001b[0m \u001b[0mrange\u001b[0m\u001b[1;33m(\u001b[0m\u001b[1;36m209\u001b[0m\u001b[1;33m)\u001b[0m\u001b[1;33m:\u001b[0m\u001b[1;33m\u001b[0m\u001b[1;33m\u001b[0m\u001b[0m\n\u001b[1;32m----> 9\u001b[1;33m         \u001b[0msumt\u001b[0m\u001b[1;33m+=\u001b[0m\u001b[0mmatch\u001b[0m\u001b[1;33m(\u001b[0m\u001b[0mt_name\u001b[0m\u001b[1;33m[\u001b[0m\u001b[0mnum\u001b[0m\u001b[1;33m]\u001b[0m\u001b[1;33m,\u001b[0m\u001b[1;34mf\"traindata/fu/fu ({i+1}).png\"\u001b[0m\u001b[1;33m,\u001b[0m\u001b[1;34m\"surf\"\u001b[0m\u001b[1;33m,\u001b[0m\u001b[0mshow\u001b[0m\u001b[1;33m=\u001b[0m\u001b[1;32mFalse\u001b[0m\u001b[1;33m)\u001b[0m\u001b[1;33m\u001b[0m\u001b[1;33m\u001b[0m\u001b[0m\n\u001b[0m\u001b[0;32m     10\u001b[0m     \u001b[0msiftfeaturet\u001b[0m\u001b[1;33m=\u001b[0m\u001b[0msumt\u001b[0m\u001b[1;33m/\u001b[0m\u001b[1;36m209\u001b[0m\u001b[1;33m\u001b[0m\u001b[1;33m\u001b[0m\u001b[0m\n\u001b[0;32m     11\u001b[0m     \u001b[1;32mif\u001b[0m \u001b[0msiftfeaturef\u001b[0m\u001b[1;33m<\u001b[0m\u001b[0msiftfeaturet\u001b[0m\u001b[1;33m:\u001b[0m\u001b[1;33m\u001b[0m\u001b[1;33m\u001b[0m\u001b[0m\n",
      "\u001b[1;32mc:\\Users\\Lenovo\\Desktop\\sjwj01\\Fu-Character-Recognition\\feature.py\u001b[0m in \u001b[0;36mmatch\u001b[1;34m(path1, path2, method, p, r, show)\u001b[0m\n\u001b[0;32m    232\u001b[0m     \u001b[0mimg1\u001b[0m \u001b[1;33m=\u001b[0m \u001b[0mcv2\u001b[0m\u001b[1;33m.\u001b[0m\u001b[0mimread\u001b[0m\u001b[1;33m(\u001b[0m\u001b[0mpath1\u001b[0m\u001b[1;33m)\u001b[0m\u001b[1;33m\u001b[0m\u001b[1;33m\u001b[0m\u001b[0m\n\u001b[0;32m    233\u001b[0m     \u001b[0mimg2\u001b[0m \u001b[1;33m=\u001b[0m \u001b[0mcv2\u001b[0m\u001b[1;33m.\u001b[0m\u001b[0mimread\u001b[0m\u001b[1;33m(\u001b[0m\u001b[0mpath2\u001b[0m\u001b[1;33m)\u001b[0m\u001b[1;33m\u001b[0m\u001b[1;33m\u001b[0m\u001b[0m\n\u001b[1;32m--> 234\u001b[1;33m     \u001b[0mkp1\u001b[0m\u001b[1;33m,\u001b[0m \u001b[0mdes1\u001b[0m \u001b[1;33m=\u001b[0m \u001b[0mfeature\u001b[0m\u001b[1;33m(\u001b[0m\u001b[0mpath1\u001b[0m\u001b[1;33m,\u001b[0m \u001b[0mmethod\u001b[0m\u001b[1;33m,\u001b[0m \u001b[0mshow\u001b[0m\u001b[1;33m)\u001b[0m\u001b[1;33m\u001b[0m\u001b[1;33m\u001b[0m\u001b[0m\n\u001b[0m\u001b[0;32m    235\u001b[0m     \u001b[0mkp2\u001b[0m\u001b[1;33m,\u001b[0m \u001b[0mdes2\u001b[0m \u001b[1;33m=\u001b[0m \u001b[0mfeature\u001b[0m\u001b[1;33m(\u001b[0m\u001b[0mpath2\u001b[0m\u001b[1;33m,\u001b[0m \u001b[0mmethod\u001b[0m\u001b[1;33m,\u001b[0m \u001b[0mshow\u001b[0m\u001b[1;33m)\u001b[0m\u001b[1;33m\u001b[0m\u001b[1;33m\u001b[0m\u001b[0m\n\u001b[0;32m    236\u001b[0m     \u001b[0mbf\u001b[0m \u001b[1;33m=\u001b[0m \u001b[0mcv2\u001b[0m\u001b[1;33m.\u001b[0m\u001b[0mBFMatcher\u001b[0m\u001b[1;33m(\u001b[0m\u001b[1;33m)\u001b[0m\u001b[1;33m\u001b[0m\u001b[1;33m\u001b[0m\u001b[0m\n",
      "\u001b[1;32mc:\\Users\\Lenovo\\Desktop\\sjwj01\\Fu-Character-Recognition\\feature.py\u001b[0m in \u001b[0;36mfeature\u001b[1;34m(p_path, method, show)\u001b[0m\n\u001b[0;32m     53\u001b[0m         \u001b[0msurf\u001b[0m \u001b[1;33m=\u001b[0m \u001b[0mcv2\u001b[0m\u001b[1;33m.\u001b[0m\u001b[0mxfeatures2d\u001b[0m\u001b[1;33m.\u001b[0m\u001b[0mSURF_create\u001b[0m\u001b[1;33m(\u001b[0m\u001b[1;36m4000\u001b[0m\u001b[1;33m)\u001b[0m\u001b[1;33m\u001b[0m\u001b[1;33m\u001b[0m\u001b[0m\n\u001b[0;32m     54\u001b[0m         \u001b[0mkp\u001b[0m\u001b[1;33m,\u001b[0m \u001b[0mdes\u001b[0m \u001b[1;33m=\u001b[0m \u001b[0msurf\u001b[0m\u001b[1;33m.\u001b[0m\u001b[0mdetectAndCompute\u001b[0m\u001b[1;33m(\u001b[0m\u001b[0mimg\u001b[0m\u001b[1;33m,\u001b[0m \u001b[1;32mNone\u001b[0m\u001b[1;33m)\u001b[0m\u001b[1;33m\u001b[0m\u001b[1;33m\u001b[0m\u001b[0m\n\u001b[1;32m---> 55\u001b[1;33m         \u001b[0mimg1\u001b[0m \u001b[1;33m=\u001b[0m \u001b[0mcv2\u001b[0m\u001b[1;33m.\u001b[0m\u001b[0mdrawKeypoints\u001b[0m\u001b[1;33m(\u001b[0m\u001b[0mimg\u001b[0m\u001b[1;33m,\u001b[0m \u001b[0mkp\u001b[0m\u001b[1;33m,\u001b[0m \u001b[1;32mNone\u001b[0m\u001b[1;33m,\u001b[0m \u001b[1;33m(\u001b[0m\u001b[1;36m255\u001b[0m\u001b[1;33m,\u001b[0m \u001b[1;36m0\u001b[0m\u001b[1;33m,\u001b[0m \u001b[1;36m0\u001b[0m\u001b[1;33m)\u001b[0m\u001b[1;33m,\u001b[0m \u001b[1;36m4\u001b[0m\u001b[1;33m)\u001b[0m\u001b[1;33m\u001b[0m\u001b[1;33m\u001b[0m\u001b[0m\n\u001b[0m\u001b[0;32m     56\u001b[0m         \u001b[1;32mif\u001b[0m \u001b[0mshow\u001b[0m\u001b[1;33m:\u001b[0m\u001b[1;33m\u001b[0m\u001b[1;33m\u001b[0m\u001b[0m\n\u001b[0;32m     57\u001b[0m             \u001b[0mplt\u001b[0m\u001b[1;33m.\u001b[0m\u001b[0mimshow\u001b[0m\u001b[1;33m(\u001b[0m\u001b[0mimg1\u001b[0m\u001b[1;33m)\u001b[0m\u001b[1;33m\u001b[0m\u001b[1;33m\u001b[0m\u001b[0m\n",
      "\u001b[1;31mKeyboardInterrupt\u001b[0m: "
     ]
    }
   ],
   "source": [
    "from feature import match\n",
    "for num in range(10):\n",
    "    sumf=0\n",
    "    for i in range(696):\n",
    "        sumf+=match(t_name[num],f\"traindata/not_fu/notfu ({i+1}).png\",\"orb\",show=False)\n",
    "    siftfeaturef=sumf/696*2.75\n",
    "    sumt=0\n",
    "    for i in range(209):\n",
    "        sumt+=match(t_name[num],f\"traindata/fu/fu ({i+1}).png\",\"surf\",show=False)\n",
    "    siftfeaturet=sumt/209\n",
    "    if siftfeaturef<siftfeaturet:\n",
    "        print(1,siftfeaturef,siftfeaturet)\n",
    "    else:\n",
    "        print(0,siftfeaturef,siftfeaturet)\n",
    "\n"
   ]
  },
  {
   "cell_type": "code",
   "execution_count": 46,
   "metadata": {},
   "outputs": [
    {
     "data": {
      "text/plain": [
       "0.11901743480690839"
      ]
     },
     "execution_count": 46,
     "metadata": {},
     "output_type": "execute_result"
    }
   ],
   "source": [
    "sumt=0\n",
    "for i in range(209):\n",
    "    sumt+=match(t_name[9],f\"traindata/fu/fu ({i+1}).png\",\"orb\",show=False)\n",
    "siftfeaturet=sumt/209\n",
    "siftfeaturet"
   ]
  }
 ],
 "metadata": {
  "kernelspec": {
   "display_name": "cjl",
   "language": "python",
   "name": "python3"
  },
  "language_info": {
   "codemirror_mode": {
    "name": "ipython",
    "version": 3
   },
   "file_extension": ".py",
   "mimetype": "text/x-python",
   "name": "python",
   "nbconvert_exporter": "python",
   "pygments_lexer": "ipython3",
   "version": "3.6.13"
  },
  "orig_nbformat": 4
 },
 "nbformat": 4,
 "nbformat_minor": 2
}
